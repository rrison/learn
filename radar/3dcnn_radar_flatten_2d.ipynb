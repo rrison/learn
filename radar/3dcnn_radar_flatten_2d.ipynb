{
 "cells": [
  {
   "cell_type": "code",
   "execution_count": 96,
   "metadata": {},
   "outputs": [],
   "source": [
    "from keras.preprocessing.image import ImageDataGenerator\n",
    "from keras.models import Sequential, load_model\n",
    "from keras.layers.core import Dense, Dropout, Activation, Flatten\n",
    "from keras.layers.convolutional import Convolution2D, MaxPooling2D, Conv2D\n",
    "from keras.optimizers import SGD, RMSprop\n",
    "from keras.utils import np_utils, generic_utils\n",
    "\n",
    "import tensorflow as tf\n",
    "import os\n",
    "import matplotlib\n",
    "import matplotlib.pyplot as plt\n",
    "import matplotlib.pyplot as pyplot\n",
    "\n",
    "import numpy as np\n",
    "import scipy.io\n",
    "from PIL import Image\n",
    "from sklearn.cross_validation import train_test_split\n",
    "from sklearn import cross_validation\n",
    "from sklearn import preprocessing\n",
    "from IPython import display\n",
    "import time\n",
    "\n",
    "img_rows, img_cols, img_depth = 64, 64, 64"
   ]
  },
  {
   "cell_type": "code",
   "execution_count": 3,
   "metadata": {},
   "outputs": [],
   "source": [
    "root_dir = 'c:/Users/caixiaod/Documents/IME/radar/infineon_radar/live_demo/dataset_withlabel/'\n",
    "listing = os.listdir(root_dir)\n",
    "maxval = 0.46\n",
    "classes = {'none':0, 'left':1, 'right':2, 'click':3, 'wrist':4}"
   ]
  },
  {
   "cell_type": "code",
   "execution_count": 60,
   "metadata": {},
   "outputs": [
    {
     "data": {
      "image/png": "[encoded data removed]",
      "text/plain": [
       "<Figure size 432x288 with 1 Axes>"
      ]
     },
     "metadata": {},
     "output_type": "display_data"
    }
   ],
   "source": [
    "frames = []\n",
    "labels = []\n",
    "nongesture_count = 0\n",
    "\n",
    "fig = plt.figure()\n",
    "ax = fig.add_subplot(111)\n",
    "\n",
    "for file in listing:\n",
    "    file = root_dir + file\n",
    "    data = scipy.io.loadmat(file)\n",
    "    images = data['images']\n",
    "    label = data['labels']\n",
    "    num_frame = images.shape[0]\n",
    "    \n",
    "    rdm = np.zeros((64, 64))\n",
    "    \n",
    "    nonzero_idx = np.nonzero(label)\n",
    "    nonzero_idx_beg = np.min(nonzero_idx)\n",
    "    nonzero_idx_end = np.max(nonzero_idx)\n",
    "    \n",
    "    for i in range(nonzero_idx_beg, nonzero_idx_end):\n",
    "        imgi = images[i].reshape(64, 64)\n",
    "        rdm = np.maximum(rdm, imgi)\n",
    "        gt = label[i]\n",
    "        \n",
    "    for i in range(nonzero_idx_end, num_frame):\n",
    "        imgi = images[i].reshape(64, 64)\n",
    "        rdm = np.maximum(rdm, imgi)\n",
    "        frames.append(rdm)\n",
    "        labels.append(gt)\n",
    "#     ax.imshow(rdm[10:,:])\n",
    "#     title = str(i) + '/' + str(num_frame) + ', label:' + str(gt)\n",
    "#     plt.title(title)\n",
    "#     display.clear_output(wait=True)\n",
    "#     display.display(fig)\n",
    "#     time.sleep(0.1)"
   ]
  },
  {
   "cell_type": "code",
   "execution_count": 63,
   "metadata": {},
   "outputs": [],
   "source": [
    "num_samples = len(frames)\n",
    "# frames_arr =np.array(frames)"
   ]
  },
  {
   "cell_type": "code",
   "execution_count": 65,
   "metadata": {},
   "outputs": [],
   "source": [
    "X = np.array(frames)"
   ]
  },
  {
   "cell_type": "code",
   "execution_count": 86,
   "metadata": {},
   "outputs": [],
   "source": [
    "labels = np.array(labels) - 1"
   ]
  },
  {
   "cell_type": "code",
   "execution_count": 87,
   "metadata": {},
   "outputs": [],
   "source": [
    "batch_size = 4\n",
    "nb_classes = 4\n",
    "nb_epoch = 100\n",
    "patch_size = 64"
   ]
  },
  {
   "cell_type": "code",
   "execution_count": 89,
   "metadata": {},
   "outputs": [],
   "source": [
    "y = np_utils.to_categorical(labels, nb_classes)\n",
    "\n",
    "nb_filters = [32, 32]\n",
    "nb_pool = [2, 2]\n",
    "nb_conv = [5, 5]\n",
    "\n",
    "X = X.astype('float32')\n",
    "X -= np.mean(X)\n",
    "X /= np.max(X)\n",
    "\n",
    "X = X.reshape(num_samples, 64, 64, 1)"
   ]
  },
  {
   "cell_type": "code",
   "execution_count": 102,
   "metadata": {},
   "outputs": [
    {
     "name": "stdout",
     "output_type": "stream",
     "text": [
      "32 filters\n",
      "input shape 64 rows 64 cols 64 patchsize\n",
      "_________________________________________________________________\n",
      "Layer (type)                 Output Shape              Param #   \n",
      "=================================================================\n",
      "conv2d_12 (Conv2D)           (None, 64, 64, 16)        416       \n",
      "_________________________________________________________________\n",
      "max_pooling2d_12 (MaxPooling (None, 32, 32, 16)        0         \n",
      "_________________________________________________________________\n",
      "dropout_17 (Dropout)         (None, 32, 32, 16)        0         \n",
      "_________________________________________________________________\n",
      "conv2d_13 (Conv2D)           (None, 32, 32, 16)        6416      \n",
      "_________________________________________________________________\n",
      "max_pooling2d_13 (MaxPooling (None, 16, 16, 16)        0         \n",
      "_________________________________________________________________\n",
      "dropout_18 (Dropout)         (None, 16, 16, 16)        0         \n",
      "_________________________________________________________________\n",
      "conv2d_14 (Conv2D)           (None, 16, 16, 16)        2320      \n",
      "_________________________________________________________________\n",
      "max_pooling2d_14 (MaxPooling (None, 8, 8, 16)          0         \n",
      "_________________________________________________________________\n",
      "dropout_19 (Dropout)         (None, 8, 8, 16)          0         \n",
      "_________________________________________________________________\n",
      "conv2d_15 (Conv2D)           (None, 8, 8, 16)          2320      \n",
      "_________________________________________________________________\n",
      "max_pooling2d_15 (MaxPooling (None, 4, 4, 16)          0         \n",
      "_________________________________________________________________\n",
      "dropout_20 (Dropout)         (None, 4, 4, 16)          0         \n",
      "_________________________________________________________________\n",
      "flatten_6 (Flatten)          (None, 256)               0         \n",
      "_________________________________________________________________\n",
      "dense_11 (Dense)             (None, 84)                21588     \n",
      "_________________________________________________________________\n",
      "dropout_21 (Dropout)         (None, 84)                0         \n",
      "_________________________________________________________________\n",
      "dense_12 (Dense)             (None, 4)                 340       \n",
      "_________________________________________________________________\n",
      "activation_6 (Activation)    (None, 4)                 0         \n",
      "=================================================================\n",
      "Total params: 33,400\n",
      "Trainable params: 33,400\n",
      "Non-trainable params: 0\n",
      "_________________________________________________________________\n"
     ]
    }
   ],
   "source": [
    "model = Sequential()\n",
    "print(nb_filters[0], 'filters')\n",
    "print('input shape', img_rows, 'rows', img_cols, 'cols', patch_size, 'patchsize')\n",
    "\n",
    "model.add(Conv2D(16,\n",
    "                 (5, 5),\n",
    "                 input_shape=(img_rows, img_cols, 1),\n",
    "                 activation='relu',\n",
    "                 padding='SAME'))\n",
    "\n",
    "model.add(MaxPooling2D(pool_size=2))\n",
    "model.add(Dropout(0.5))\n",
    "\n",
    "model.add(Conv2D(16,\n",
    "                 (5, 5),\n",
    "                 input_shape=(img_rows, img_cols, 1),\n",
    "                 activation='relu',\n",
    "                 padding='SAME'))\n",
    "\n",
    "model.add(MaxPooling2D(pool_size=2))\n",
    "model.add(Dropout(0.5))\n",
    "\n",
    "model.add(Conv2D(16,\n",
    "                 (3, 3),\n",
    "                 input_shape=(img_rows, img_cols, 1),\n",
    "                 activation='relu',\n",
    "                 padding='SAME'))\n",
    "\n",
    "model.add(MaxPooling2D(pool_size=2))\n",
    "model.add(Dropout(0.5))\n",
    "\n",
    "model.add(Conv2D(16,\n",
    "                 (3, 3),\n",
    "                 input_shape=(img_rows, img_cols, 1),\n",
    "                 activation='relu',\n",
    "                 padding='SAME'))\n",
    "\n",
    "model.add(MaxPooling2D(pool_size=2))\n",
    "model.add(Dropout(0.5))\n",
    "\n",
    "model.add(Flatten())\n",
    "model.add(Dense(84, kernel_initializer='normal', activation='relu'))\n",
    "model.add(Dropout(0.5))\n",
    "model.add(Dense(nb_classes, kernel_initializer='normal'))\n",
    "model.add(Activation('softmax'))\n",
    "model.compile(loss='categorical_crossentropy', optimizer='RMSprop', metrics=['mse', 'accuracy'])\n",
    "\n",
    "model.summary()"
   ]
  },
  {
   "cell_type": "code",
   "execution_count": null,
   "metadata": {},
   "outputs": [
    {
     "name": "stdout",
     "output_type": "stream",
     "text": [
      "Train on 78157 samples, validate on 19540 samples\n",
      "Epoch 1/100\n",
      "78157/78157 [==============================] - 184s 2ms/step - loss: 1.2871 - mean_squared_error: 0.1766 - acc: 0.3798 - val_loss: 1.2775 - val_mean_squared_error: 0.1760 - val_acc: 0.3830\n",
      "Epoch 2/100\n",
      "76460/78157 [============================>.] - ETA: 3s - loss: 1.2898 - mean_squared_error: 0.1766 - acc: 0.3800"
     ]
    }
   ],
   "source": [
    "X_train, X_val, y_train, y_val = train_test_split(X, y, test_size=0.2, random_state=42)\n",
    "\n",
    "hist = model.fit(\n",
    "X_train,\n",
    "y_train,\n",
    "validation_data=(X_val, y_val),\n",
    "batch_size=batch_size,\n",
    "epochs=nb_epoch,\n",
    "shuffle=True\n",
    ")"
   ]
  },
  {
   "cell_type": "code",
   "execution_count": null,
   "metadata": {},
   "outputs": [],
   "source": [
    "train_loss = hist.history['loss']\n",
    "val_loss = hist.history['val_loss']\n",
    "train_acc = hist.history['acc']\n",
    "val_acc = hist.history['val_acc']"
   ]
  },
  {
   "cell_type": "code",
   "execution_count": null,
   "metadata": {},
   "outputs": [],
   "source": [
    "plt.plot(train_loss); plt.title('train loss')\n",
    "plt.plot(val_loss); plt.title('val loss')\n",
    "plt.legend(['train loss', 'val_loss'])"
   ]
  },
  {
   "cell_type": "code",
   "execution_count": null,
   "metadata": {},
   "outputs": [],
   "source": [
    "plt.plot(train_acc); plt.title('train acc')\n",
    "plt.plot(val_acc); plt.title('val acc')\n",
    "plt.legend(['train loss', 'val loss'])\n",
    "plt.grid(True)\n",
    "plt.ylim(0,1)"
   ]
  },
  {
   "cell_type": "code",
   "execution_count": 13,
   "metadata": {},
   "outputs": [
    {
     "data": {
      "text/plain": [
       "(8661, 64, 64, 64, 1)"
      ]
     },
     "execution_count": 13,
     "metadata": {},
     "output_type": "execute_result"
    }
   ],
   "source": [
    "X.shape"
   ]
  },
  {
   "cell_type": "code",
   "execution_count": 13,
   "metadata": {},
   "outputs": [],
   "source": [
    "from keras import backend as K\n",
    "K.clear_session()"
   ]
  },
  {
   "cell_type": "code",
   "execution_count": 14,
   "metadata": {},
   "outputs": [],
   "source": [
    "np.save('X.npy', X)"
   ]
  },
  {
   "cell_type": "code",
   "execution_count": 15,
   "metadata": {},
   "outputs": [],
   "source": [
    "np.save('y.npy', y)"
   ]
  },
  {
   "cell_type": "code",
   "execution_count": null,
   "metadata": {},
   "outputs": [],
   "source": []
  }
 ],
 "metadata": {
  "kernelspec": {
   "display_name": "Python 3",
   "language": "python",
   "name": "python3"
  },
  "language_info": {
   "codemirror_mode": {
    "name": "ipython",
    "version": 3
   },
   "file_extension": ".py",
   "mimetype": "text/x-python",
   "name": "python",
   "nbconvert_exporter": "python",
   "pygments_lexer": "ipython3",
   "version": "3.5.5"
  }
 },
 "nbformat": 4,
 "nbformat_minor": 2
}
