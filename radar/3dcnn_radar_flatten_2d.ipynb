{
 "cells": [
  {
   "cell_type": "code",
   "execution_count": 40,
   "metadata": {},
   "outputs": [],
   "source": [
    "from keras.preprocessing.image import ImageDataGenerator\n",
    "from keras.models import Sequential, load_model\n",
    "from keras.layers.core import Dense, Dropout, Activation, Flatten\n",
    "from keras.layers.convolutional import Convolution2D, MaxPooling2D, Conv2D\n",
    "from keras.optimizers import SGD, RMSprop\n",
    "from keras.utils import np_utils, generic_utils\n",
    "from keras.callbacks import TensorBoard\n",
    "from keras import backend as K\n",
    "\n",
    "\n",
    "import tensorflow as tf\n",
    "import os\n",
    "import matplotlib\n",
    "import matplotlib.pyplot as plt\n",
    "import matplotlib.pyplot as pyplot\n",
    "\n",
    "import numpy as np\n",
    "import scipy.io\n",
    "from PIL import Image\n",
    "from sklearn.cross_validation import train_test_split\n",
    "from sklearn import cross_validation\n",
    "from sklearn import preprocessing\n",
    "from IPython import display\n",
    "import time\n",
    "\n",
    "img_rows, img_cols, img_depth = 64, 64, 64"
   ]
  },
  {
   "cell_type": "code",
   "execution_count": 3,
   "metadata": {},
   "outputs": [],
   "source": [
    "root_dir = 'dataset_withlabel/'\n",
    "listing = os.listdir(root_dir)\n",
    "maxval = 0.46\n",
    "classes = {'none':0, 'left':1, 'right':2, 'click':3, 'wrist':4}"
   ]
  },
  {
   "cell_type": "code",
   "execution_count": 123,
   "metadata": {},
   "outputs": [
    {
     "data": {
      "image/png": "[encoded data removed]",
      "text/plain": [
       "<Figure size 432x288 with 1 Axes>"
      ]
     },
     "metadata": {},
     "output_type": "display_data"
    }
   ],
   "source": [
    "frames = []\n",
    "labels = []\n",
    "nongesture_count = 0\n",
    "samples_per_class = np.zeros((5,1))\n",
    "\n",
    "fig = plt.figure()\n",
    "ax = fig.add_subplot(111)\n",
    "\n",
    "for file in listing:\n",
    "    file = root_dir + file\n",
    "    data = scipy.io.loadmat(file)\n",
    "    images = data['images']\n",
    "    label = data['labels']\n",
    "    num_frame = images.shape[0]\n",
    "    \n",
    "    rdm = np.zeros((64, 64))\n",
    "    gt = 0\n",
    "    nonzero_idx = np.nonzero(label)\n",
    "    nonzero_idx_beg = np.min(nonzero_idx)\n",
    "    nonzero_idx_end = np.max(nonzero_idx)\n",
    "    gt = np.max(label)\n",
    "    for i in range(nonzero_idx_beg, nonzero_idx_end):\n",
    "        imgi = images[i].reshape(64, 64)\n",
    "        rdm = np.maximum(rdm, imgi)\n",
    "        \n",
    "            \n",
    "    background_rdm = np.zeros((64, 64))\n",
    "    for i in range(nonzero_idx_end, num_frame):\n",
    "        imgi = images[i].reshape(64, 64)\n",
    "        rdm = np.maximum(rdm, imgi)\n",
    "        rdm[:10,:] = np.min(rdm)\n",
    "        frames.append(rdm)\n",
    "        labels.append(gt)\n",
    "        samples_per_class[gt] = samples_per_class[gt] + 1\n",
    "        \n",
    "        if gt == 4:\n",
    "            frames.append(rdm)\n",
    "            labels.append(gt)\n",
    "            samples_per_class[gt] = samples_per_class[gt] + 1\n",
    "            \n",
    "            frames.append(rdm)\n",
    "            labels.append(gt)\n",
    "            samples_per_class[gt] = samples_per_class[gt] + 1\n",
    "        \n",
    "        if samples_per_class[0] < 30000:\n",
    "            background_rdm = np.maximum(background_rdm, imgi)\n",
    "            background_rdm[:10,:] = np.min(background_rdm)\n",
    "            frames.append(background_rdm)\n",
    "            labels.append(0)\n",
    "            samples_per_class[0] = samples_per_class[0] + 1\n",
    "#     ax.imshow(rdm)\n",
    "#     title = str(i) + '/' + str(num_frame) + ', label:' + str(gt)\n",
    "#     plt.title(title)\n",
    "#     display.clear_output(wait=True)\n",
    "#     display.display(fig)\n",
    "#     time.sleep(0.1)"
   ]
  },
  {
   "cell_type": "code",
   "execution_count": 125,
   "metadata": {},
   "outputs": [],
   "source": [
    "num_samples = len(frames)\n",
    "# frames_arr =np.array(frames)"
   ]
  },
  {
   "cell_type": "code",
   "execution_count": 126,
   "metadata": {},
   "outputs": [
    {
     "name": "stdout",
     "output_type": "stream",
     "text": [
      "143547\n"
     ]
    }
   ],
   "source": [
    "print(num_samples)"
   ]
  },
  {
   "cell_type": "code",
   "execution_count": 127,
   "metadata": {},
   "outputs": [
    {
     "name": "stdout",
     "output_type": "stream",
     "text": [
      "2\n"
     ]
    }
   ],
   "source": [
    "gt = np.max(label)\n",
    "print(gt)"
   ]
  },
  {
   "cell_type": "code",
   "execution_count": 128,
   "metadata": {},
   "outputs": [],
   "source": [
    "X = np.array(frames)"
   ]
  },
  {
   "cell_type": "code",
   "execution_count": 129,
   "metadata": {},
   "outputs": [],
   "source": [
    "labels = np.array(labels)"
   ]
  },
  {
   "cell_type": "code",
   "execution_count": 130,
   "metadata": {},
   "outputs": [
    {
     "data": {
      "text/plain": [
       "array([[30000.],\n",
       "       [27222.],\n",
       "       [25347.],\n",
       "       [37203.],\n",
       "       [23775.]])"
      ]
     },
     "execution_count": 130,
     "metadata": {},
     "output_type": "execute_result"
    }
   ],
   "source": [
    "samples_per_class"
   ]
  },
  {
   "cell_type": "code",
   "execution_count": 131,
   "metadata": {},
   "outputs": [],
   "source": [
    "batch_size = 32\n",
    "num_classes = 5\n",
    "num_epoch = 20"
   ]
  },
  {
   "cell_type": "code",
   "execution_count": 132,
   "metadata": {},
   "outputs": [],
   "source": [
    "y = np_utils.to_categorical(labels, num_classes)\n",
    "X = X.reshape(num_samples, 64, 64, 1)\n",
    "\n",
    "num_filters = [32, 32]\n",
    "num_pool = [2, 2]\n",
    "num_conv = [5, 3]\n",
    "\n",
    "X = X.astype('float32')\n",
    "X -= np.mean(X)\n",
    "X /= np.max(X)"
   ]
  },
  {
   "cell_type": "code",
   "execution_count": 133,
   "metadata": {},
   "outputs": [],
   "source": [
    "X_train, X_val, y_train, y_val = train_test_split(X, y, test_size=0.2, random_state=42)"
   ]
  },
  {
   "cell_type": "code",
   "execution_count": 186,
   "metadata": {},
   "outputs": [
    {
     "data": {
      "image/png": "[encoded data removed]",
      "text/plain": [
       "<Figure size 432x288 with 1 Axes>"
      ]
     },
     "metadata": {},
     "output_type": "display_data"
    },
    {
     "data": {
      "image/png": "[encoded data removed]",
      "text/plain": [
       "<Figure size 432x288 with 1 Axes>"
      ]
     },
     "metadata": {},
     "output_type": "display_data"
    },
    {
     "data": {
      "image/png": "[encoded data removed]",
      "text/plain": [
       "<Figure size 432x288 with 1 Axes>"
      ]
     },
     "metadata": {},
     "output_type": "display_data"
    },
    {
     "data": {
      "image/png": "[encoded data removed]",
      "text/plain": [
       "<Figure size 432x288 with 1 Axes>"
      ]
     },
     "metadata": {},
     "output_type": "display_data"
    },
    {
     "data": {
      "image/png": "[encoded data removed]",
      "text/plain": [
       "<Figure size 432x288 with 1 Axes>"
      ]
     },
     "metadata": {},
     "output_type": "display_data"
    }
   ],
   "source": [
    "gesture_rdm = np.zeros((5, 64, 64))\n",
    "for k in range(len(y_val)):\n",
    "    a = X_val[k]\n",
    "    b = a.reshape(64,64)\n",
    "    gt_val = np.where(y_val[k]==1)[0][0]\n",
    "    gesture_rdm[gt_val] = gesture_rdm[gt_val] + b\n",
    "    \n",
    "for i in range(0, 5):\n",
    "    plt.figure()\n",
    "    plt.imshow(gesture_rdm[i])\n",
    "    plt.title(gestures[i])"
   ]
  },
  {
   "cell_type": "code",
   "execution_count": 135,
   "metadata": {},
   "outputs": [
    {
     "name": "stdout",
     "output_type": "stream",
     "text": [
      "32 filters\n",
      "input shape 64 rows 64 cols\n",
      "_________________________________________________________________\n",
      "Layer (type)                 Output Shape              Param #   \n",
      "=================================================================\n",
      "conv2d_1 (Conv2D)            (None, 64, 64, 16)        416       \n",
      "_________________________________________________________________\n",
      "max_pooling2d_1 (MaxPooling2 (None, 16, 16, 16)        0         \n",
      "_________________________________________________________________\n",
      "dropout_1 (Dropout)          (None, 16, 16, 16)        0         \n",
      "_________________________________________________________________\n",
      "conv2d_2 (Conv2D)            (None, 16, 16, 32)        12832     \n",
      "_________________________________________________________________\n",
      "max_pooling2d_2 (MaxPooling2 (None, 4, 4, 32)          0         \n",
      "_________________________________________________________________\n",
      "dropout_2 (Dropout)          (None, 4, 4, 32)          0         \n",
      "_________________________________________________________________\n",
      "flatten_1 (Flatten)          (None, 512)               0         \n",
      "_________________________________________________________________\n",
      "dense_1 (Dense)              (None, 40)                20520     \n",
      "_________________________________________________________________\n",
      "dropout_3 (Dropout)          (None, 40)                0         \n",
      "_________________________________________________________________\n",
      "dense_2 (Dense)              (None, 5)                 205       \n",
      "_________________________________________________________________\n",
      "activation_1 (Activation)    (None, 5)                 0         \n",
      "=================================================================\n",
      "Total params: 33,973\n",
      "Trainable params: 33,973\n",
      "Non-trainable params: 0\n",
      "_________________________________________________________________\n"
     ]
    }
   ],
   "source": [
    "K.clear_session()\n",
    "model = Sequential()\n",
    "print(num_filters[0], 'filters')\n",
    "print('input shape', img_rows, 'rows', img_cols, 'cols')\n",
    "\n",
    "model.add(Conv2D(16,\n",
    "                 (5, 5),\n",
    "                 input_shape=(img_rows, img_cols, 1),\n",
    "                 activation='relu',\n",
    "                 padding='SAME'))\n",
    "\n",
    "model.add(MaxPooling2D(pool_size=4))\n",
    "model.add(Dropout(0.5))\n",
    "\n",
    "model.add(Conv2D(32,\n",
    "                 (5, 5),\n",
    "                 input_shape=(img_rows, img_cols, 1),\n",
    "                 activation='relu',\n",
    "                 padding='SAME'))\n",
    "\n",
    "model.add(MaxPooling2D(pool_size=4))\n",
    "model.add(Dropout(0.5))\n",
    "\n",
    "# model.add(Conv2D(64,\n",
    "#                  (3, 3),\n",
    "#                  input_shape=(img_rows, img_cols, 1),\n",
    "#                  activation='relu',\n",
    "#                  padding='valid'))\n",
    "\n",
    "# model.add(MaxPooling2D(pool_size=2, strides=2))\n",
    "# model.add(Dropout(0.5))\n",
    "\n",
    "model.add(Flatten())\n",
    "model.add(Dense(40, kernel_initializer='normal', activation='relu'))\n",
    "model.add(Dropout(0.5))\n",
    "model.add(Dense(num_classes, kernel_initializer='normal'))\n",
    "model.add(Activation('softmax'))\n",
    "model.compile(loss='categorical_crossentropy', optimizer='RMSprop', metrics=['mse', 'accuracy'])\n",
    "\n",
    "model.summary()"
   ]
  },
  {
   "cell_type": "code",
   "execution_count": 136,
   "metadata": {},
   "outputs": [
    {
     "name": "stdout",
     "output_type": "stream",
     "text": [
      "Train on 114837 samples, validate on 28710 samples\n",
      "Epoch 1/20\n",
      "114837/114837 [==============================] - 27s 239us/step - loss: 0.9793 - mean_squared_error: 0.1017 - acc: 0.5955 - val_loss: 0.5311 - val_mean_squared_error: 0.0572 - val_acc: 0.8057\n",
      "Epoch 2/20\n",
      "114837/114837 [==============================] - 27s 236us/step - loss: 0.6436 - mean_squared_error: 0.0675 - acc: 0.7486 - val_loss: 0.3414 - val_mean_squared_error: 0.0365 - val_acc: 0.8924\n",
      "Epoch 3/20\n",
      "114837/114837 [==============================] - 27s 236us/step - loss: 0.4833 - mean_squared_error: 0.0508 - acc: 0.8153 - val_loss: 0.2101 - val_mean_squared_error: 0.0215 - val_acc: 0.9434\n",
      "Epoch 4/20\n",
      "114837/114837 [==============================] - 27s 236us/step - loss: 0.4163 - mean_squared_error: 0.0429 - acc: 0.8487 - val_loss: 0.1843 - val_mean_squared_error: 0.0187 - val_acc: 0.9504\n",
      "Epoch 5/20\n",
      "114837/114837 [==============================] - 27s 237us/step - loss: 0.3782 - mean_squared_error: 0.0383 - acc: 0.8657 - val_loss: 0.1728 - val_mean_squared_error: 0.0173 - val_acc: 0.9596\n",
      "Epoch 6/20\n",
      "114837/114837 [==============================] - 27s 237us/step - loss: 0.3647 - mean_squared_error: 0.0359 - acc: 0.8770 - val_loss: 0.1496 - val_mean_squared_error: 0.0147 - val_acc: 0.9613\n",
      "Epoch 7/20\n",
      "114837/114837 [==============================] - 27s 234us/step - loss: 0.3585 - mean_squared_error: 0.0345 - acc: 0.8824 - val_loss: 0.1102 - val_mean_squared_error: 0.0113 - val_acc: 0.9683\n",
      "Epoch 8/20\n",
      "114837/114837 [==============================] - 27s 235us/step - loss: 0.3595 - mean_squared_error: 0.0339 - acc: 0.8852 - val_loss: 0.1357 - val_mean_squared_error: 0.0135 - val_acc: 0.9708\n",
      "Epoch 9/20\n",
      "114837/114837 [==============================] - 27s 233us/step - loss: 0.3514 - mean_squared_error: 0.0326 - acc: 0.8897 - val_loss: 0.2229 - val_mean_squared_error: 0.0224 - val_acc: 0.9587\n",
      "Epoch 10/20\n",
      "114837/114837 [==============================] - 27s 234us/step - loss: 0.3524 - mean_squared_error: 0.0323 - acc: 0.8920 - val_loss: 0.1676 - val_mean_squared_error: 0.0166 - val_acc: 0.9679\n",
      "Epoch 11/20\n",
      "114837/114837 [==============================] - 27s 237us/step - loss: 0.3448 - mean_squared_error: 0.0314 - acc: 0.8952 - val_loss: 0.1105 - val_mean_squared_error: 0.0114 - val_acc: 0.9738\n",
      "Epoch 12/20\n",
      "114837/114837 [==============================] - 27s 234us/step - loss: 0.3548 - mean_squared_error: 0.0316 - acc: 0.8950 - val_loss: 0.1184 - val_mean_squared_error: 0.0120 - val_acc: 0.9753\n",
      "Epoch 13/20\n",
      "114837/114837 [==============================] - 27s 237us/step - loss: 0.3762 - mean_squared_error: 0.0324 - acc: 0.8920 - val_loss: 0.0992 - val_mean_squared_error: 0.0101 - val_acc: 0.9763\n",
      "Epoch 14/20\n",
      "114837/114837 [==============================] - 27s 237us/step - loss: 0.3618 - mean_squared_error: 0.0317 - acc: 0.8950 - val_loss: 0.1414 - val_mean_squared_error: 0.0142 - val_acc: 0.9675\n",
      "Epoch 15/20\n",
      "114837/114837 [==============================] - 28s 242us/step - loss: 0.3688 - mean_squared_error: 0.0318 - acc: 0.8946 - val_loss: 0.1047 - val_mean_squared_error: 0.0108 - val_acc: 0.9703\n",
      "Epoch 16/20\n",
      "114837/114837 [==============================] - 28s 245us/step - loss: 0.3720 - mean_squared_error: 0.0319 - acc: 0.8957 - val_loss: 0.1301 - val_mean_squared_error: 0.0131 - val_acc: 0.9701\n",
      "Epoch 17/20\n",
      "114837/114837 [==============================] - 28s 241us/step - loss: 0.3746 - mean_squared_error: 0.0317 - acc: 0.8947 - val_loss: 0.1040 - val_mean_squared_error: 0.0104 - val_acc: 0.9758\n",
      "Epoch 18/20\n",
      "114837/114837 [==============================] - 28s 247us/step - loss: 0.3695 - mean_squared_error: 0.0315 - acc: 0.8960 - val_loss: 0.1180 - val_mean_squared_error: 0.0117 - val_acc: 0.9746\n",
      "Epoch 19/20\n",
      "114837/114837 [==============================] - 29s 255us/step - loss: 0.3706 - mean_squared_error: 0.0316 - acc: 0.8959 - val_loss: 0.1277 - val_mean_squared_error: 0.0126 - val_acc: 0.9706\n",
      "Epoch 20/20\n",
      "114837/114837 [==============================] - 29s 249us/step - loss: 0.3817 - mean_squared_error: 0.0322 - acc: 0.8930 - val_loss: 0.1536 - val_mean_squared_error: 0.0152 - val_acc: 0.9676\n"
     ]
    }
   ],
   "source": [
    "hist = model.fit(X_train,\n",
    "                 y_train,\n",
    "                 validation_data=(X_val, y_val),\n",
    "                 batch_size=batch_size,\n",
    "                 epochs=num_epoch,\n",
    "                 shuffle=True,\n",
    "                 callbacks=[TensorBoard(log_dir='./tmp/log')]\n",
    ")"
   ]
  },
  {
   "cell_type": "code",
   "execution_count": 137,
   "metadata": {},
   "outputs": [],
   "source": [
    "train_loss = hist.history['loss']\n",
    "val_loss = hist.history['val_loss']\n",
    "train_acc = hist.history['acc']\n",
    "val_acc = hist.history['val_acc']"
   ]
  },
  {
   "cell_type": "code",
   "execution_count": 138,
   "metadata": {},
   "outputs": [
    {
     "data": {
      "text/plain": [
       "<matplotlib.legend.Legend at 0x7f460096ddd8>"
      ]
     },
     "execution_count": 138,
     "metadata": {},
     "output_type": "execute_result"
    },
    {
     "data": {
      "image/png": "[encoded data removed]",
      "text/plain": [
       "<Figure size 432x288 with 1 Axes>"
      ]
     },
     "metadata": {},
     "output_type": "display_data"
    }
   ],
   "source": [
    "plt.plot(train_loss); plt.title('train loss')\n",
    "plt.plot(val_loss); plt.title('val loss')\n",
    "plt.legend(['train loss', 'val_loss'])"
   ]
  },
  {
   "cell_type": "code",
   "execution_count": 145,
   "metadata": {
    "scrolled": true
   },
   "outputs": [
    {
     "data": {
      "text/plain": [
       "(0, 1)"
      ]
     },
     "execution_count": 145,
     "metadata": {},
     "output_type": "execute_result"
    },
    {
     "data": {
      "image/png": "[encoded data removed]",
      "text/plain": [
       "<Figure size 432x288 with 1 Axes>"
      ]
     },
     "metadata": {},
     "output_type": "display_data"
    }
   ],
   "source": [
    "plt.plot(train_acc); plt.title('train acc')\n",
    "plt.plot(val_acc); plt.title('val acc')\n",
    "plt.legend(['train acc', 'val acc'])\n",
    "plt.grid(True)\n",
    "plt.ylim(0,1)"
   ]
  },
  {
   "cell_type": "code",
   "execution_count": 149,
   "metadata": {},
   "outputs": [],
   "source": [
    "gestures = ['none', 'left', 'right', 'click', 'wrist']"
   ]
  },
  {
   "cell_type": "code",
   "execution_count": 164,
   "metadata": {},
   "outputs": [
    {
     "data": {
      "text/plain": [
       "Text(0.5,1,'wrist')"
      ]
     },
     "execution_count": 164,
     "metadata": {},
     "output_type": "execute_result"
    },
    {
     "data": {
      "image/png": "[encoded data removed]",
      "text/plain": [
       "<Figure size 432x288 with 1 Axes>"
      ]
     },
     "metadata": {},
     "output_type": "display_data"
    }
   ],
   "source": [
    "k = 5\n",
    "a = X_val[k]\n",
    "b = a.reshape(64,64)\n",
    "plt.imshow(b)\n",
    "gt_val = np.where(y_val[k]==1)[0][0]\n",
    "plt.title(gestures[gt_val])"
   ]
  },
  {
   "cell_type": "code",
   "execution_count": 15,
   "metadata": {},
   "outputs": [],
   "source": [
    "np.save('X.npy', X)\n",
    "np.save('y.npy', y)"
   ]
  }
 ],
 "metadata": {
  "kernelspec": {
   "display_name": "Python 3",
   "language": "python",
   "name": "python3"
  },
  "language_info": {
   "codemirror_mode": {
    "name": "ipython",
    "version": 3
   },
   "file_extension": ".py",
   "mimetype": "text/x-python",
   "name": "python",
   "nbconvert_exporter": "python",
   "pygments_lexer": "ipython3",
   "version": "3.5.2"
  }
 },
 "nbformat": 4,
 "nbformat_minor": 2
}
