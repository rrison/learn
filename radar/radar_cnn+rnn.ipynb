{
 "cells": [
  {
   "cell_type": "code",
   "execution_count": 1,
   "metadata": {},
   "outputs": [
    {
     "name": "stderr",
     "output_type": "stream",
     "text": [
      "/home/xd/ws/tf/lib/python3.5/site-packages/h5py/__init__.py:36: FutureWarning: Conversion of the second argument of issubdtype from `float` to `np.floating` is deprecated. In future, it will be treated as `np.float64 == np.dtype(float).type`.\n",
      "  from ._conv import register_converters as _register_converters\n",
      "Using TensorFlow backend.\n",
      "/home/xd/ws/tf/lib/python3.5/site-packages/sklearn/cross_validation.py:41: DeprecationWarning: This module was deprecated in version 0.18 in favor of the model_selection module into which all the refactored classes and functions are moved. Also note that the interface of the new CV iterators are different from that of this module. This module will be removed in 0.20.\n",
      "  \"This module will be removed in 0.20.\", DeprecationWarning)\n"
     ]
    }
   ],
   "source": [
    "from keras.preprocessing.image import ImageDataGenerator\n",
    "from keras.models import Sequential, load_model\n",
    "from keras.layers.core import Dense, Dropout, Activation, Flatten\n",
    "from keras.layers.convolutional import Convolution2D, MaxPooling2D, Conv2D\n",
    "from keras.optimizers import SGD, RMSprop\n",
    "from keras.utils import np_utils, generic_utils\n",
    "from keras.callbacks import TensorBoard\n",
    "from keras import backend as K\n",
    "\n",
    "\n",
    "import tensorflow as tf\n",
    "import os\n",
    "import matplotlib\n",
    "import matplotlib.pyplot as plt\n",
    "import matplotlib.pyplot as pyplot\n",
    "\n",
    "import numpy as np\n",
    "import scipy.io\n",
    "from PIL import Image\n",
    "from sklearn.cross_validation import train_test_split\n",
    "from sklearn import cross_validation\n",
    "from sklearn import preprocessing\n",
    "from IPython import display\n",
    "import time"
   ]
  },
  {
   "cell_type": "code",
   "execution_count": 2,
   "metadata": {},
   "outputs": [],
   "source": [
    "root_dir = 'dataset_withlabel/'\n",
    "listing = os.listdir(root_dir)\n",
    "maxval = 0.46\n",
    "classes = {'none':0, 'left':1, 'right':2, 'click':3, 'wrist':4}"
   ]
  },
  {
   "cell_type": "code",
   "execution_count": 3,
   "metadata": {},
   "outputs": [
    {
     "data": {
      "image/png": "[encoded data removed]",
      "text/plain": [
       "<Figure size 432x288 with 1 Axes>"
      ]
     },
     "metadata": {},
     "output_type": "display_data"
    }
   ],
   "source": [
    "frames = []\n",
    "labels = []\n",
    "nongesture_count = 0\n",
    "samples_per_class = np.zeros((5,1))\n",
    "\n",
    "fig = plt.figure()\n",
    "ax = fig.add_subplot(111)\n",
    "\n",
    "for file in listing:\n",
    "    file = root_dir + file\n",
    "    data = scipy.io.loadmat(file)\n",
    "    images = data['images']\n",
    "    label = data['labels']\n",
    "    num_frame = images.shape[0]\n",
    "    \n",
    "    rdm = np.zeros((64, 64))\n",
    "    gt = 0\n",
    "    nonzero_idx = np.nonzero(label)\n",
    "    nonzero_idx_beg = np.min(nonzero_idx)\n",
    "    nonzero_idx_end = np.max(nonzero_idx)\n",
    "    gt = np.max(label)\n",
    "    for i in range(nonzero_idx_beg, nonzero_idx_end):\n",
    "        imgi = images[i].reshape(64, 64)\n",
    "        rdm = np.maximum(rdm, imgi)\n",
    "        \n",
    "            \n",
    "    background_rdm = np.zeros((64, 64))\n",
    "    for i in range(nonzero_idx_end, num_frame):\n",
    "        imgi = images[i].reshape(64, 64)\n",
    "        rdm = np.maximum(rdm, imgi)\n",
    "        rdm[:10,:] = np.min(rdm)\n",
    "        frames.append(rdm)\n",
    "        labels.append(gt)\n",
    "        samples_per_class[gt] = samples_per_class[gt] + 1\n",
    "        \n",
    "        if gt == 4:\n",
    "            frames.append(rdm)\n",
    "            labels.append(gt)\n",
    "            samples_per_class[gt] = samples_per_class[gt] + 1\n",
    "            \n",
    "            frames.append(rdm)\n",
    "            labels.append(gt)\n",
    "            samples_per_class[gt] = samples_per_class[gt] + 1\n",
    "        \n",
    "        if samples_per_class[0] < 30000:\n",
    "            background_rdm = np.maximum(background_rdm, imgi)\n",
    "            background_rdm[:10,:] = np.min(background_rdm)\n",
    "            frames.append(background_rdm)\n",
    "            labels.append(0)\n",
    "            samples_per_class[0] = samples_per_class[0] + 1\n",
    "#     ax.imshow(rdm)\n",
    "#     title = str(i) + '/' + str(num_frame) + ', label:' + str(gt)\n",
    "#     plt.title(title)\n",
    "#     display.clear_output(wait=True)\n",
    "#     display.display(fig)\n",
    "#     time.sleep(0.1)"
   ]
  },
  {
   "cell_type": "code",
   "execution_count": 4,
   "metadata": {},
   "outputs": [],
   "source": [
    "num_samples = len(frames)\n",
    "# frames_arr =np.array(frames)"
   ]
  },
  {
   "cell_type": "code",
   "execution_count": 5,
   "metadata": {},
   "outputs": [
    {
     "name": "stdout",
     "output_type": "stream",
     "text": [
      "143547\n"
     ]
    }
   ],
   "source": [
    "print(num_samples)"
   ]
  },
  {
   "cell_type": "code",
   "execution_count": 6,
   "metadata": {},
   "outputs": [
    {
     "name": "stdout",
     "output_type": "stream",
     "text": [
      "2\n"
     ]
    }
   ],
   "source": [
    "gt = np.max(label)\n",
    "print(gt)"
   ]
  },
  {
   "cell_type": "code",
   "execution_count": 7,
   "metadata": {},
   "outputs": [],
   "source": [
    "X = np.array(frames)"
   ]
  },
  {
   "cell_type": "code",
   "execution_count": 8,
   "metadata": {},
   "outputs": [],
   "source": [
    "labels = np.array(labels)"
   ]
  },
  {
   "cell_type": "code",
   "execution_count": 9,
   "metadata": {},
   "outputs": [
    {
     "data": {
      "text/plain": [
       "array([[30000.],\n",
       "       [27222.],\n",
       "       [25347.],\n",
       "       [37203.],\n",
       "       [23775.]])"
      ]
     },
     "execution_count": 9,
     "metadata": {},
     "output_type": "execute_result"
    }
   ],
   "source": [
    "samples_per_class"
   ]
  },
  {
   "cell_type": "code",
   "execution_count": 6,
   "metadata": {},
   "outputs": [],
   "source": [
    "img_rows, img_cols, img_depth = 64, 256, 2\n",
    "batch_size = 32\n",
    "num_classes = 5\n",
    "num_epoch = 20"
   ]
  },
  {
   "cell_type": "code",
   "execution_count": 11,
   "metadata": {},
   "outputs": [],
   "source": [
    "y = np_utils.to_categorical(labels, num_classes)\n",
    "X = X.reshape(num_samples, 64, 64, 1)\n",
    "\n",
    "num_filters = [32, 32]\n",
    "num_pool = [2, 2]\n",
    "num_conv = [5, 3]\n",
    "\n",
    "X = X.astype('float32')\n",
    "X -= np.mean(X)\n",
    "X /= np.max(X)"
   ]
  },
  {
   "cell_type": "code",
   "execution_count": 12,
   "metadata": {},
   "outputs": [],
   "source": [
    "X_train, X_val, y_train, y_val = train_test_split(X, y, test_size=0.2, random_state=42)"
   ]
  },
  {
   "cell_type": "code",
   "execution_count": 13,
   "metadata": {},
   "outputs": [
    {
     "ename": "NameError",
     "evalue": "name 'gestures' is not defined",
     "output_type": "error",
     "traceback": [
      "\u001b[0;31m---------------------------------------------------------------------------\u001b[0m",
      "\u001b[0;31mNameError\u001b[0m                                 Traceback (most recent call last)",
      "\u001b[0;32m<ipython-input-13-aed0ab7e6180>\u001b[0m in \u001b[0;36m<module>\u001b[0;34m()\u001b[0m\n\u001b[1;32m      9\u001b[0m     \u001b[0mplt\u001b[0m\u001b[0;34m.\u001b[0m\u001b[0mfigure\u001b[0m\u001b[0;34m(\u001b[0m\u001b[0;34m)\u001b[0m\u001b[0;34m\u001b[0m\u001b[0m\n\u001b[1;32m     10\u001b[0m     \u001b[0mplt\u001b[0m\u001b[0;34m.\u001b[0m\u001b[0mimshow\u001b[0m\u001b[0;34m(\u001b[0m\u001b[0mgesture_rdm\u001b[0m\u001b[0;34m[\u001b[0m\u001b[0mi\u001b[0m\u001b[0;34m]\u001b[0m\u001b[0;34m)\u001b[0m\u001b[0;34m\u001b[0m\u001b[0m\n\u001b[0;32m---> 11\u001b[0;31m     \u001b[0mplt\u001b[0m\u001b[0;34m.\u001b[0m\u001b[0mtitle\u001b[0m\u001b[0;34m(\u001b[0m\u001b[0mgestures\u001b[0m\u001b[0;34m[\u001b[0m\u001b[0mi\u001b[0m\u001b[0;34m]\u001b[0m\u001b[0;34m)\u001b[0m\u001b[0;34m\u001b[0m\u001b[0m\n\u001b[0m",
      "\u001b[0;31mNameError\u001b[0m: name 'gestures' is not defined"
     ]
    },
    {
     "data": {
      "image/png": "[encoded data removed]",
      "text/plain": [
       "<Figure size 432x288 with 1 Axes>"
      ]
     },
     "metadata": {},
     "output_type": "display_data"
    }
   ],
   "source": [
    "gesture_rdm = np.zeros((5, 64, 64))\n",
    "for k in range(len(y_val)):\n",
    "    a = X_val[k]\n",
    "    b = a.reshape(64,64)\n",
    "    gt_val = np.where(y_val[k]==1)[0][0]\n",
    "    gesture_rdm[gt_val] = gesture_rdm[gt_val] + b\n",
    "    \n",
    "for i in range(0, 5):\n",
    "    plt.figure()\n",
    "    plt.imshow(gesture_rdm[i])\n",
    "    plt.title(gestures[i])"
   ]
  },
  {
   "cell_type": "code",
   "execution_count": 21,
   "metadata": {},
   "outputs": [
    {
     "name": "stdout",
     "output_type": "stream",
     "text": [
      "input shape 64 rows 256 cols\n",
      "_________________________________________________________________\n",
      "Layer (type)                 Output Shape              Param #   \n",
      "=================================================================\n",
      "conv2d_1 (Conv2D)            (None, 32, 128, 8)        72        \n",
      "_________________________________________________________________\n",
      "dropout_1 (Dropout)          (None, 32, 128, 8)        0         \n",
      "_________________________________________________________________\n",
      "conv2d_2 (Conv2D)            (None, 16, 64, 16)        528       \n",
      "_________________________________________________________________\n",
      "dropout_2 (Dropout)          (None, 16, 64, 16)        0         \n",
      "_________________________________________________________________\n",
      "conv2d_3 (Conv2D)            (None, 8, 32, 32)         2080      \n",
      "_________________________________________________________________\n",
      "dropout_3 (Dropout)          (None, 8, 32, 32)         0         \n",
      "_________________________________________________________________\n",
      "conv2d_4 (Conv2D)            (None, 4, 16, 64)         8256      \n",
      "_________________________________________________________________\n",
      "dropout_4 (Dropout)          (None, 4, 16, 64)         0         \n",
      "_________________________________________________________________\n",
      "conv2d_5 (Conv2D)            (None, 2, 8, 128)         32896     \n",
      "_________________________________________________________________\n",
      "dropout_5 (Dropout)          (None, 2, 8, 128)         0         \n",
      "_________________________________________________________________\n",
      "conv2d_6 (Conv2D)            (None, 1, 4, 256)         131328    \n",
      "_________________________________________________________________\n",
      "dropout_6 (Dropout)          (None, 1, 4, 256)         0         \n",
      "_________________________________________________________________\n",
      "flatten_1 (Flatten)          (None, 1024)              0         \n",
      "_________________________________________________________________\n",
      "dense_1 (Dense)              (None, 40)                41000     \n",
      "_________________________________________________________________\n",
      "dropout_7 (Dropout)          (None, 40)                0         \n",
      "_________________________________________________________________\n",
      "dense_2 (Dense)              (None, 5)                 205       \n",
      "_________________________________________________________________\n",
      "activation_1 (Activation)    (None, 5)                 0         \n",
      "=================================================================\n",
      "Total params: 216,365\n",
      "Trainable params: 216,365\n",
      "Non-trainable params: 0\n",
      "_________________________________________________________________\n"
     ]
    }
   ],
   "source": [
    "K.clear_session()\n",
    "model = Sequential()\n",
    "print('input shape', img_rows, 'rows', img_cols, 'cols')\n",
    "\n",
    "model.add(Conv2D(8,\n",
    "                 (2, 2),\n",
    "                 strides=(2,2),\n",
    "                 input_shape=(img_rows, img_cols, 2),\n",
    "                 activation='relu',\n",
    "                 padding='valid'))\n",
    "\n",
    "# model.add(MaxPooling2D(pool_size=4))\n",
    "model.add(Dropout(0.5))\n",
    "\n",
    "model.add(Conv2D(16,\n",
    "                 (2, 2),\n",
    "                 strides=(2,2),\n",
    "                 activation='relu',\n",
    "                 padding='valid'))\n",
    "\n",
    "# model.add(MaxPooling2D(pool_size=4))\n",
    "model.add(Dropout(0.5))\n",
    "\n",
    "model.add(Conv2D(32,\n",
    "                 (2, 2),\n",
    "                 strides=(2,2),\n",
    "                 activation='relu',\n",
    "                 padding='valid'))\n",
    "\n",
    "# model.add(MaxPooling2D(pool_size=4))\n",
    "model.add(Dropout(0.5))\n",
    "\n",
    "model.add(Conv2D(64,\n",
    "                 (2, 2),\n",
    "                 strides=(2,2),\n",
    "                 input_shape=(img_rows, img_cols, img_depth),\n",
    "                 activation='relu',\n",
    "                 padding='valid'))\n",
    "\n",
    "# model.add(MaxPooling2D(pool_size=4))\n",
    "model.add(Dropout(0.5))\n",
    "\n",
    "model.add(Conv2D(128,\n",
    "                 (2, 2),\n",
    "                 strides=(2,2),\n",
    "                 input_shape=(img_rows, img_cols, img_depth),\n",
    "                 activation='relu',\n",
    "                 padding='valid'))\n",
    "\n",
    "# model.add(MaxPooling2D(pool_size=4))\n",
    "model.add(Dropout(0.5))\n",
    "\n",
    "model.add(Conv2D(256,\n",
    "                 (2, 2),\n",
    "                 strides=(2,2),\n",
    "                 input_shape=(img_rows, img_cols, img_depth),\n",
    "                 activation='relu',\n",
    "                 padding='valid'))\n",
    "\n",
    "# model.add(MaxPooling2D(pool_size=4))\n",
    "model.add(Dropout(0.5))\n",
    "# model.add(Conv2D(64,\n",
    "#                  (3, 3),\n",
    "#                  input_shape=(img_rows, img_cols, 1),\n",
    "#                  activation='relu',\n",
    "#                  padding='valid'))\n",
    "\n",
    "# model.add(MaxPooling2D(pool_size=2, strides=2))\n",
    "# model.add(Dropout(0.5))\n",
    "\n",
    "model.add(Flatten())\n",
    "model.add(Dense(40, kernel_initializer='normal', activation='relu'))\n",
    "model.add(Dropout(0.5))\n",
    "model.add(Dense(num_classes, kernel_initializer='normal'))\n",
    "model.add(Activation('softmax'))\n",
    "model.compile(loss='categorical_crossentropy', optimizer='RMSprop', metrics=['mse', 'accuracy'])\n",
    "\n",
    "model.summary()"
   ]
  },
  {
   "cell_type": "code",
   "execution_count": 15,
   "metadata": {},
   "outputs": [
    {
     "name": "stdout",
     "output_type": "stream",
     "text": [
      "Train on 114837 samples, validate on 28710 samples\n",
      "Epoch 1/20\n",
      "114837/114837 [==============================] - 20s 177us/step - loss: 0.9795 - mean_squared_error: 0.1021 - acc: 0.5931 - val_loss: 0.5017 - val_mean_squared_error: 0.0544 - val_acc: 0.8144\n",
      "Epoch 2/20\n",
      "114837/114837 [==============================] - 20s 171us/step - loss: 0.6700 - mean_squared_error: 0.0701 - acc: 0.7414 - val_loss: 0.3464 - val_mean_squared_error: 0.0374 - val_acc: 0.8876\n",
      "Epoch 3/20\n",
      "114837/114837 [==============================] - 20s 172us/step - loss: 0.5271 - mean_squared_error: 0.0552 - acc: 0.8025 - val_loss: 0.2798 - val_mean_squared_error: 0.0290 - val_acc: 0.9254\n",
      "Epoch 4/20\n",
      "114837/114837 [==============================] - 20s 170us/step - loss: 0.4426 - mean_squared_error: 0.0458 - acc: 0.8375 - val_loss: 0.1949 - val_mean_squared_error: 0.0198 - val_acc: 0.9500\n",
      "Epoch 5/20\n",
      "114837/114837 [==============================] - 20s 171us/step - loss: 0.3978 - mean_squared_error: 0.0404 - acc: 0.8588 - val_loss: 0.2121 - val_mean_squared_error: 0.0218 - val_acc: 0.9582\n",
      "Epoch 6/20\n",
      "114837/114837 [==============================] - 20s 172us/step - loss: 0.3765 - mean_squared_error: 0.0374 - acc: 0.8714 - val_loss: 0.1495 - val_mean_squared_error: 0.0148 - val_acc: 0.9611\n",
      "Epoch 7/20\n",
      "114837/114837 [==============================] - 20s 171us/step - loss: 0.3646 - mean_squared_error: 0.0356 - acc: 0.8787 - val_loss: 0.1482 - val_mean_squared_error: 0.0147 - val_acc: 0.9757\n",
      "Epoch 8/20\n",
      "114837/114837 [==============================] - 18s 161us/step - loss: 0.3491 - mean_squared_error: 0.0342 - acc: 0.8840 - val_loss: 0.1976 - val_mean_squared_error: 0.0200 - val_acc: 0.9616\n",
      "Epoch 9/20\n",
      "114837/114837 [==============================] - 20s 171us/step - loss: 0.3512 - mean_squared_error: 0.0335 - acc: 0.8862 - val_loss: 0.1677 - val_mean_squared_error: 0.0169 - val_acc: 0.9570\n",
      "Epoch 10/20\n",
      "114837/114837 [==============================] - 20s 170us/step - loss: 0.3543 - mean_squared_error: 0.0332 - acc: 0.8877 - val_loss: 0.1215 - val_mean_squared_error: 0.0120 - val_acc: 0.9770\n",
      "Epoch 11/20\n",
      "114837/114837 [==============================] - 20s 171us/step - loss: 0.3549 - mean_squared_error: 0.0326 - acc: 0.8899 - val_loss: 0.1383 - val_mean_squared_error: 0.0138 - val_acc: 0.9768\n",
      "Epoch 12/20\n",
      "114837/114837 [==============================] - 20s 172us/step - loss: 0.3637 - mean_squared_error: 0.0331 - acc: 0.8885 - val_loss: 0.1759 - val_mean_squared_error: 0.0174 - val_acc: 0.9705\n",
      "Epoch 13/20\n",
      "114837/114837 [==============================] - 19s 169us/step - loss: 0.3651 - mean_squared_error: 0.0331 - acc: 0.8884 - val_loss: 0.1178 - val_mean_squared_error: 0.0113 - val_acc: 0.9773\n",
      "Epoch 14/20\n",
      "114837/114837 [==============================] - 19s 170us/step - loss: 0.3711 - mean_squared_error: 0.0331 - acc: 0.8889 - val_loss: 0.1392 - val_mean_squared_error: 0.0137 - val_acc: 0.9740\n",
      "Epoch 15/20\n",
      "114837/114837 [==============================] - 20s 170us/step - loss: 0.3705 - mean_squared_error: 0.0332 - acc: 0.8889 - val_loss: 0.0915 - val_mean_squared_error: 0.0090 - val_acc: 0.9814\n",
      "Epoch 16/20\n",
      "114837/114837 [==============================] - 20s 172us/step - loss: 0.3757 - mean_squared_error: 0.0334 - acc: 0.8876 - val_loss: 0.1357 - val_mean_squared_error: 0.0134 - val_acc: 0.9750\n",
      "Epoch 17/20\n",
      "114837/114837 [==============================] - 20s 170us/step - loss: 0.3888 - mean_squared_error: 0.0338 - acc: 0.8862 - val_loss: 0.1714 - val_mean_squared_error: 0.0173 - val_acc: 0.9532\n",
      "Epoch 18/20\n",
      "114837/114837 [==============================] - 20s 171us/step - loss: 0.3954 - mean_squared_error: 0.0343 - acc: 0.8846 - val_loss: 0.3770 - val_mean_squared_error: 0.0393 - val_acc: 0.9010\n",
      "Epoch 19/20\n",
      "114837/114837 [==============================] - 20s 171us/step - loss: 0.3976 - mean_squared_error: 0.0344 - acc: 0.8845 - val_loss: 0.1711 - val_mean_squared_error: 0.0171 - val_acc: 0.9509\n",
      "Epoch 20/20\n",
      "114837/114837 [==============================] - 19s 170us/step - loss: 0.4048 - mean_squared_error: 0.0349 - acc: 0.8829 - val_loss: 0.2143 - val_mean_squared_error: 0.0221 - val_acc: 0.9579\n"
     ]
    }
   ],
   "source": [
    "hist = model.fit(X_train,\n",
    "                 y_train,\n",
    "                 validation_data=(X_val, y_val),\n",
    "                 batch_size=batch_size,\n",
    "                 epochs=num_epoch,\n",
    "                 shuffle=True,\n",
    "                 callbacks=[TensorBoard(log_dir='./tmp/log')]\n",
    ")"
   ]
  },
  {
   "cell_type": "code",
   "execution_count": 137,
   "metadata": {},
   "outputs": [],
   "source": [
    "train_loss = hist.history['loss']\n",
    "val_loss = hist.history['val_loss']\n",
    "train_acc = hist.history['acc']\n",
    "val_acc = hist.history['val_acc']"
   ]
  },
  {
   "cell_type": "code",
   "execution_count": 138,
   "metadata": {},
   "outputs": [
    {
     "data": {
      "text/plain": [
       "<matplotlib.legend.Legend at 0x7f460096ddd8>"
      ]
     },
     "execution_count": 138,
     "metadata": {},
     "output_type": "execute_result"
    },
    {
     "data": {
      "image/png": "[encoded data removed]",
      "text/plain": [
       "<Figure size 432x288 with 1 Axes>"
      ]
     },
     "metadata": {},
     "output_type": "display_data"
    }
   ],
   "source": [
    "plt.plot(train_loss); plt.title('train loss')\n",
    "plt.plot(val_loss); plt.title('val loss')\n",
    "plt.legend(['train loss', 'val_loss'])"
   ]
  },
  {
   "cell_type": "code",
   "execution_count": 145,
   "metadata": {
    "scrolled": true
   },
   "outputs": [
    {
     "data": {
      "text/plain": [
       "(0, 1)"
      ]
     },
     "execution_count": 145,
     "metadata": {},
     "output_type": "execute_result"
    },
    {
     "data": {
      "image/png": "[encoded data removed]",
      "text/plain": [
       "<Figure size 432x288 with 1 Axes>"
      ]
     },
     "metadata": {},
     "output_type": "display_data"
    }
   ],
   "source": [
    "plt.plot(train_acc); plt.title('train acc')\n",
    "plt.plot(val_acc); plt.title('val acc')\n",
    "plt.legend(['train acc', 'val acc'])\n",
    "plt.grid(True)\n",
    "plt.ylim(0,1)"
   ]
  },
  {
   "cell_type": "code",
   "execution_count": 149,
   "metadata": {},
   "outputs": [],
   "source": [
    "gestures = ['none', 'left', 'right', 'click', 'wrist']"
   ]
  },
  {
   "cell_type": "code",
   "execution_count": 164,
   "metadata": {},
   "outputs": [
    {
     "data": {
      "text/plain": [
       "Text(0.5,1,'wrist')"
      ]
     },
     "execution_count": 164,
     "metadata": {},
     "output_type": "execute_result"
    },
    {
     "data": {
      "image/png": "[encoded data removed]",
      "text/plain": [
       "<Figure size 432x288 with 1 Axes>"
      ]
     },
     "metadata": {},
     "output_type": "display_data"
    }
   ],
   "source": [
    "k = 5\n",
    "a = X_val[k]\n",
    "b = a.reshape(64,64)\n",
    "plt.imshow(b)\n",
    "gt_val = np.where(y_val[k]==1)[0][0]\n",
    "plt.title(gestures[gt_val])"
   ]
  },
  {
   "cell_type": "code",
   "execution_count": 15,
   "metadata": {},
   "outputs": [],
   "source": [
    "np.save('X.npy', X)\n",
    "np.save('y.npy', y)"
   ]
  }
 ],
 "metadata": {
  "kernelspec": {
   "display_name": "Python 3",
   "language": "python",
   "name": "python3"
  },
  "language_info": {
   "codemirror_mode": {
    "name": "ipython",
    "version": 3
   },
   "file_extension": ".py",
   "mimetype": "text/x-python",
   "name": "python",
   "nbconvert_exporter": "python",
   "pygments_lexer": "ipython3",
   "version": "3.5.2"
  }
 },
 "nbformat": 4,
 "nbformat_minor": 2
}
