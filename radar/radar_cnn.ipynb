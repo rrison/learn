{
 "cells": [
  {
   "cell_type": "code",
   "execution_count": 1,
   "metadata": {},
   "outputs": [
    {
     "name": "stderr",
     "output_type": "stream",
     "text": [
      "/home/xd/ws/tf/lib/python3.5/site-packages/h5py/__init__.py:36: FutureWarning: Conversion of the second argument of issubdtype from `float` to `np.floating` is deprecated. In future, it will be treated as `np.float64 == np.dtype(float).type`.\n",
      "  from ._conv import register_converters as _register_converters\n",
      "Using TensorFlow backend.\n",
      "/home/xd/ws/tf/lib/python3.5/site-packages/sklearn/cross_validation.py:41: DeprecationWarning: This module was deprecated in version 0.18 in favor of the model_selection module into which all the refactored classes and functions are moved. Also note that the interface of the new CV iterators are different from that of this module. This module will be removed in 0.20.\n",
      "  \"This module will be removed in 0.20.\", DeprecationWarning)\n"
     ]
    }
   ],
   "source": [
    "from keras.preprocessing.image import ImageDataGenerator\n",
    "from keras.models import Sequential, load_model\n",
    "from keras.layers.core import Dense, Dropout, Activation, Flatten\n",
    "from keras.layers.convolutional import Convolution2D, MaxPooling2D, Conv2D\n",
    "from keras.optimizers import SGD, RMSprop\n",
    "from keras.utils import np_utils, generic_utils\n",
    "from keras.callbacks import TensorBoard\n",
    "from keras import backend as K\n",
    "\n",
    "\n",
    "import tensorflow as tf\n",
    "import os\n",
    "import matplotlib\n",
    "import matplotlib.pyplot as plt\n",
    "import matplotlib.pyplot as pyplot\n",
    "\n",
    "import numpy as np\n",
    "import scipy.io\n",
    "from PIL import Image\n",
    "from sklearn.cross_validation import train_test_split\n",
    "from sklearn import cross_validation\n",
    "from sklearn import preprocessing\n",
    "from IPython import display\n",
    "import time\n",
    "import random\n",
    "\n",
    "img_rows, img_cols, img_depth = 64, 64, 64"
   ]
  },
  {
   "cell_type": "code",
   "execution_count": 2,
   "metadata": {},
   "outputs": [],
   "source": [
    "root_dir = 'dataset/'\n",
    "listing = os.listdir(root_dir)\n",
    "listing = sorted(listing)\n",
    "maxval = 0.46\n",
    "classes = {'none':0, 'left':1, 'right':2, 'click':3, 'wrist':4}\n",
    "gs_class = {'left', 'right', 'click', 'wrist'}"
   ]
  },
  {
   "cell_type": "code",
   "execution_count": 44,
   "metadata": {},
   "outputs": [
    {
     "name": "stdout",
     "output_type": "stream",
     "text": [
      "152,120\n",
      "152,109\n",
      "152,120\n",
      "152,64\n",
      "152,90\n",
      "152,119\n",
      "152,101\n",
      "152,107\n",
      "152,110\n"
     ]
    }
   ],
   "source": [
    "X = []\n",
    "y = []\n",
    "\n",
    "width = 128 # input image shape = [width, width, 3]\n",
    "delta = 24 # 24*0.625cm = 15cm\n",
    "esp = 1e-6\n",
    "\n",
    "for file in listing:\n",
    "    file = root_dir + file\n",
    "    data = scipy.io.loadmat(file)\n",
    "#     print(file)\n",
    "    # set ground truth\n",
    "    gt = 'none'\n",
    "    for i in gs_class:\n",
    "        idx = file.find(i)\n",
    "        if idx != -1:\n",
    "            gt = i\n",
    "            break;\n",
    "        \n",
    "        \n",
    "    raw = data['raw']\n",
    "    label = data['label']\n",
    "    speed = data['speed']\n",
    "    phase = data['phase']\n",
    "    mask = data['mask']\n",
    "    \n",
    "    label_mask = (label != 0)\n",
    "    label_sum = np.sum(label_mask) # total frames of labels\n",
    "    \n",
    "    if label_sum < 30:\n",
    "        continue\n",
    "    \n",
    "    gs_mask = mask[label_mask[:,0], :]\n",
    "    gs_window = np.sum(gs_mask, 0) / label_sum\n",
    "    maxval = np.max(gs_window[width:])\n",
    "    maxidx = np.argmax(gs_window[width:])\n",
    "    \n",
    "    if maxval < 0.3:\n",
    "        continue\n",
    "        \n",
    "    gesture_index, b = np.nonzero(label)\n",
    "    \n",
    "    # set gesture region, [r_min:r_max, c_min:c_max]\n",
    "    r_min, r_max = gesture_index[0], gesture_index[-1]\n",
    "    r_min = max(r_min - delta, 0)\n",
    "    r_max = max(r_min + width + delta, r_max)\n",
    "    r_max = min(r_max, len(label))\n",
    "\n",
    "    body_pos = maxidx + width\n",
    "    c_min = body_pos - width\n",
    "    c_max = min(body_pos + delta, raw.shape[1])\n",
    "    \n",
    "    if (r_max - r_min < width) or (c_max - c_min < width):\n",
    "        print(str(c_max-c_min) + ',' + str(r_max-r_min))\n",
    "        continue\n",
    "    \n",
    "    raw_rdm = raw[r_min:r_max, c_min:c_max]\n",
    "    maxval = np.max(np.abs(raw_rdm)) + esp\n",
    "    raw_rdm = raw_rdm / maxval\n",
    "    \n",
    "    speed_rdm = speed[r_min:r_max, c_min:c_max]\n",
    "    maxval = np.max(np.abs(speed_rdm)) + esp\n",
    "    speed_rdm = speed_rdm / maxval\n",
    "    \n",
    "    phase_rdm = phase[r_min:r_max, c_min:c_max]\n",
    "    maxval = np.max(np.abs(phase_rdm)) + esp\n",
    "    phase_rdm = phase_rdm / maxval\n",
    "    \n",
    "    raw_input = np.zeros((r_max-r_min, c_max-c_min, 3))\n",
    "    raw_input[:,:,0] = raw_rdm\n",
    "    raw_input[:,:,1] = speed_rdm\n",
    "    raw_input[:,:,2] = phase_rdm\n",
    "    X.append(raw_input)\n",
    "    y.append(classes[gt])\n",
    "\n",
    "    # generate negtive samples\n",
    "    gt = 'none'\n",
    "    r_min = int((gesture_index[0] + gesture_index[-1]) / 2)\n",
    "    r_max = len(label)\n",
    "\n",
    "    body_pos = maxidx + width\n",
    "    c_min = body_pos - width\n",
    "    c_max = min(body_pos + delta, raw.shape[1])\n",
    "    \n",
    "    if (r_max - r_min < width) or (c_max - c_min < width):\n",
    "        print(str(c_max-c_min) + ',' + str(r_max-r_min))\n",
    "        continue\n",
    "    \n",
    "    raw_rdm = raw[r_min:r_max, c_min:c_max]\n",
    "    maxval = np.max(np.abs(raw_rdm)) + esp\n",
    "    raw_rdm = raw_rdm / maxval\n",
    "    \n",
    "    speed_rdm = speed[r_min:r_max, c_min:c_max]\n",
    "    maxval = np.max(np.abs(speed_rdm)) + esp\n",
    "    speed_rdm = speed_rdm / maxval\n",
    "    \n",
    "    phase_rdm = phase[r_min:r_max, c_min:c_max]\n",
    "    maxval = np.max(np.abs(phase_rdm)) + esp\n",
    "    phase_rdm = phase_rdm / maxval\n",
    "    \n",
    "    raw_input = np.zeros((r_max-r_min, c_max-c_min, 3))\n",
    "    raw_input[:,:,0] = raw_rdm\n",
    "    raw_input[:,:,1] = speed_rdm\n",
    "    raw_input[:,:,2] = phase_rdm\n",
    "    \n",
    "    X.append(raw_input)\n",
    "    y.append(classes[gt])"
   ]
  },
  {
   "cell_type": "code",
   "execution_count": 45,
   "metadata": {},
   "outputs": [],
   "source": [
    "X = np.array(X)\n",
    "y = np.array(y)"
   ]
  },
  {
   "cell_type": "code",
   "execution_count": 46,
   "metadata": {},
   "outputs": [
    {
     "name": "stdout",
     "output_type": "stream",
     "text": [
      "396.0\n",
      "197.0\n",
      "117.0\n",
      "44.0\n",
      "47.0\n"
     ]
    }
   ],
   "source": [
    "labels = np.zeros((5))\n",
    "for i in range(0, 5):\n",
    "    labels[i] = np.sum(y == i)\n",
    "    \n",
    "# plt.hist(np.transpose(labels))\n",
    "for i in range(5):\n",
    "    print(labels[i])\n",
    "    "
   ]
  },
  {
   "cell_type": "code",
   "execution_count": 47,
   "metadata": {},
   "outputs": [],
   "source": [
    "y = np_utils.to_categorical(y, num_classes)\n",
    "\n",
    "num_filters = [32, 32]\n",
    "num_pool = [2, 4]\n",
    "num_conv = [5, 3]\n",
    "\n",
    "# X = X.astype('float32')"
   ]
  },
  {
   "cell_type": "code",
   "execution_count": 48,
   "metadata": {},
   "outputs": [
    {
     "data": {
      "text/plain": [
       "(801, 5)"
      ]
     },
     "execution_count": 48,
     "metadata": {},
     "output_type": "execute_result"
    }
   ],
   "source": [
    "y.shape"
   ]
  },
  {
   "cell_type": "code",
   "execution_count": 49,
   "metadata": {},
   "outputs": [],
   "source": [
    "X_train, X_val, y_train, y_val = train_test_split(X, y, test_size=0.2, random_state=42)"
   ]
  },
  {
   "cell_type": "code",
   "execution_count": 119,
   "metadata": {},
   "outputs": [],
   "source": [
    "batch_size = 32\n",
    "num_classes = 5\n",
    "num_epoch = 100\n",
    "train_size = len(X_train)\n",
    "val_size = len(X_val)"
   ]
  },
  {
   "cell_type": "code",
   "execution_count": 110,
   "metadata": {},
   "outputs": [
    {
     "name": "stdout",
     "output_type": "stream",
     "text": [
      "_________________________________________________________________\n",
      "Layer (type)                 Output Shape              Param #   \n",
      "=================================================================\n",
      "conv2d_1 (Conv2D)            (None, 128, 128, 16)      448       \n",
      "_________________________________________________________________\n",
      "conv2d_2 (Conv2D)            (None, 128, 128, 16)      2320      \n",
      "_________________________________________________________________\n",
      "max_pooling2d_1 (MaxPooling2 (None, 32, 32, 16)        0         \n",
      "_________________________________________________________________\n",
      "dropout_1 (Dropout)          (None, 32, 32, 16)        0         \n",
      "_________________________________________________________________\n",
      "conv2d_3 (Conv2D)            (None, 32, 32, 32)        4640      \n",
      "_________________________________________________________________\n",
      "conv2d_4 (Conv2D)            (None, 32, 32, 16)        4624      \n",
      "_________________________________________________________________\n",
      "max_pooling2d_2 (MaxPooling2 (None, 8, 8, 16)          0         \n",
      "_________________________________________________________________\n",
      "dropout_2 (Dropout)          (None, 8, 8, 16)          0         \n",
      "_________________________________________________________________\n",
      "conv2d_5 (Conv2D)            (None, 8, 8, 32)          4640      \n",
      "_________________________________________________________________\n",
      "conv2d_6 (Conv2D)            (None, 8, 8, 32)          9248      \n",
      "_________________________________________________________________\n",
      "max_pooling2d_3 (MaxPooling2 (None, 2, 2, 32)          0         \n",
      "_________________________________________________________________\n",
      "dropout_3 (Dropout)          (None, 2, 2, 32)          0         \n",
      "_________________________________________________________________\n",
      "flatten_1 (Flatten)          (None, 128)               0         \n",
      "_________________________________________________________________\n",
      "dense_1 (Dense)              (None, 40)                5160      \n",
      "_________________________________________________________________\n",
      "dropout_4 (Dropout)          (None, 40)                0         \n",
      "_________________________________________________________________\n",
      "dense_2 (Dense)              (None, 5)                 205       \n",
      "_________________________________________________________________\n",
      "activation_1 (Activation)    (None, 5)                 0         \n",
      "=================================================================\n",
      "Total params: 31,285\n",
      "Trainable params: 31,285\n",
      "Non-trainable params: 0\n",
      "_________________________________________________________________\n"
     ]
    }
   ],
   "source": [
    "K.clear_session()\n",
    "model = Sequential()\n",
    "\n",
    "model.add(Conv2D(16,\n",
    "                 (3, 3),\n",
    "                 input_shape=(128, 128, 3),\n",
    "                 activation='relu',\n",
    "                 padding='SAME'))\n",
    "model.add(Conv2D(16,\n",
    "                 (3, 3),\n",
    "                 activation='relu',\n",
    "                 padding='SAME'))\n",
    "model.add(MaxPooling2D(pool_size=4))\n",
    "model.add(Dropout(0.5))\n",
    "\n",
    "model.add(Conv2D(32,\n",
    "                 (3, 3),\n",
    "                 activation='relu',\n",
    "                 padding='SAME'))\n",
    "model.add(Conv2D(16,\n",
    "                 (3, 3),\n",
    "                 activation='relu',\n",
    "                 padding='SAME'))\n",
    "model.add(MaxPooling2D(pool_size=4))\n",
    "model.add(Dropout(0.5))\n",
    "\n",
    "model.add(Conv2D(32,\n",
    "                 (3, 3),\n",
    "                 activation='relu',\n",
    "                 padding='same'))\n",
    "model.add(Conv2D(32,\n",
    "                 (3, 3),\n",
    "                 activation='relu',\n",
    "                 padding='same'))\n",
    "model.add(MaxPooling2D(pool_size=4))\n",
    "model.add(Dropout(0.5))\n",
    "\n",
    "# model.add(Conv2D(64,\n",
    "#                  (3, 3),\n",
    "#                  activation='relu',\n",
    "#                  padding='same'))\n",
    "# model.add(Conv2D(64,\n",
    "#                  (3, 3),\n",
    "#                  activation='relu',\n",
    "#                  padding='same'))\n",
    "# model.add(Conv2D(64,\n",
    "#                  (3, 3),\n",
    "#                  activation='relu',\n",
    "#                  padding='same'))\n",
    "# model.add(MaxPooling2D(pool_size=2))\n",
    "# model.add(Dropout(0.5))\n",
    "\n",
    "model.add(Flatten())\n",
    "model.add(Dense(40, kernel_initializer='normal', activation='relu'))\n",
    "model.add(Dropout(0.5))\n",
    "model.add(Dense(num_classes, kernel_initializer='normal'))\n",
    "model.add(Activation('softmax'))\n",
    "model.compile(loss='categorical_crossentropy', optimizer='RMSprop', metrics=['mse', 'accuracy'])\n",
    "\n",
    "model.summary()"
   ]
  },
  {
   "cell_type": "code",
   "execution_count": 111,
   "metadata": {},
   "outputs": [],
   "source": [
    "def generate_val_data(x, y):\n",
    "    list_x = []\n",
    "    list_y = []\n",
    "    count = 0\n",
    "    index = np.arange(len(x))\n",
    "    np.random.shuffle(index)\n",
    "    x = x[index]\n",
    "    y = y[index]\n",
    "\n",
    "    for i in range(len(x)):\n",
    "        raw = x[i]\n",
    "        sz = raw.shape\n",
    "        \n",
    "        label = np.argmax(y[i,:])\n",
    "        dict_label = [5, 20, 30, 60, 60]\n",
    "        num = dict_label[label]\n",
    "        \n",
    "        for j in range(num):\n",
    "            r = random.randint(0, sz[0]-128)\n",
    "            c = random.randint(0, sz[1]-128)\n",
    "            list_x.append(raw[r:r+128,c:c+128,:])\n",
    "            list_y.append(y[i])\n",
    "    return np.array(list_x), np.array(list_y)"
   ]
  },
  {
   "cell_type": "code",
   "execution_count": 112,
   "metadata": {},
   "outputs": [],
   "source": [
    "X_val_aug, y_val_aug = generate_val_data(X_val, y_val)"
   ]
  },
  {
   "cell_type": "code",
   "execution_count": 113,
   "metadata": {},
   "outputs": [
    {
     "data": {
      "text/plain": [
       "array([460., 600., 540., 600., 660.])"
      ]
     },
     "execution_count": 113,
     "metadata": {},
     "output_type": "execute_result"
    }
   ],
   "source": [
    "gt = np.zeros((5))\n",
    "for i in range(len(y_val_aug)):\n",
    "    label = np.argmax(y_val_aug[i,:])\n",
    "    gt[label] += 1\n",
    "gt"
   ]
  },
  {
   "cell_type": "code",
   "execution_count": 120,
   "metadata": {},
   "outputs": [
    {
     "name": "stdout",
     "output_type": "stream",
     "text": [
      "Epoch 1/100\n",
      "6000/6000 [==============================] - 133s 22ms/step - loss: 6.4539 - mean_squared_error: 0.1905 - acc: 0.4858 - val_loss: 11.3897 - val_mean_squared_error: 0.2827 - val_acc: 0.2934\n",
      "Epoch 2/100\n",
      "6000/6000 [==============================] - 131s 22ms/step - loss: 6.4101 - mean_squared_error: 0.1946 - acc: 0.4541 - val_loss: 10.7191 - val_mean_squared_error: 0.2660 - val_acc: 0.3350\n",
      "Epoch 3/100\n",
      "6000/6000 [==============================] - 136s 23ms/step - loss: 6.3081 - mean_squared_error: 0.1918 - acc: 0.4528 - val_loss: 11.2376 - val_mean_squared_error: 0.2789 - val_acc: 0.3028\n",
      "Epoch 4/100\n",
      "6000/6000 [==============================] - 136s 23ms/step - loss: 6.1215 - mean_squared_error: 0.1896 - acc: 0.4500 - val_loss: 9.6709 - val_mean_squared_error: 0.2400 - val_acc: 0.4000\n",
      "Epoch 5/100\n",
      "6000/6000 [==============================] - 139s 23ms/step - loss: 6.3297 - mean_squared_error: 0.1884 - acc: 0.4731 - val_loss: 9.5412 - val_mean_squared_error: 0.2368 - val_acc: 0.4080\n",
      "Epoch 6/100\n",
      "6000/6000 [==============================] - 144s 24ms/step - loss: 5.9131 - mean_squared_error: 0.1829 - acc: 0.4926 - val_loss: 9.6934 - val_mean_squared_error: 0.2406 - val_acc: 0.3986\n",
      "Epoch 7/100\n",
      "6000/6000 [==============================] - 139s 23ms/step - loss: 6.1144 - mean_squared_error: 0.1827 - acc: 0.4985 - val_loss: 9.2482 - val_mean_squared_error: 0.2295 - val_acc: 0.4262\n",
      "Epoch 8/100\n",
      "6000/6000 [==============================] - 142s 24ms/step - loss: 5.5527 - mean_squared_error: 0.1760 - acc: 0.5100 - val_loss: 9.0463 - val_mean_squared_error: 0.2265 - val_acc: 0.4308\n",
      "Epoch 9/100\n",
      "6000/6000 [==============================] - 143s 24ms/step - loss: 6.1854 - mean_squared_error: 0.1808 - acc: 0.5192 - val_loss: 9.3158 - val_mean_squared_error: 0.2312 - val_acc: 0.4220\n",
      "Epoch 10/100\n",
      "6000/6000 [==============================] - 142s 24ms/step - loss: 6.3384 - mean_squared_error: 0.1853 - acc: 0.5123 - val_loss: 9.3581 - val_mean_squared_error: 0.2328 - val_acc: 0.4175\n",
      "Epoch 11/100\n",
      "6000/6000 [==============================] - 146s 24ms/step - loss: 6.4755 - mean_squared_error: 0.1870 - acc: 0.5095 - val_loss: 9.1257 - val_mean_squared_error: 0.2266 - val_acc: 0.4336\n",
      "Epoch 12/100\n",
      "6000/6000 [==============================] - 147s 25ms/step - loss: 5.8857 - mean_squared_error: 0.1780 - acc: 0.5255 - val_loss: 9.1505 - val_mean_squared_error: 0.2273 - val_acc: 0.4315\n",
      "Epoch 13/100\n",
      "6000/6000 [==============================] - 145s 24ms/step - loss: 6.1154 - mean_squared_error: 0.1832 - acc: 0.5083 - val_loss: 9.4623 - val_mean_squared_error: 0.2348 - val_acc: 0.4129\n",
      "Epoch 14/100\n",
      "6000/6000 [==============================] - 151s 25ms/step - loss: 5.8003 - mean_squared_error: 0.1766 - acc: 0.5203 - val_loss: 9.5427 - val_mean_squared_error: 0.2381 - val_acc: 0.4031\n",
      "Epoch 15/100\n",
      "6000/6000 [==============================] - 144s 24ms/step - loss: 5.7200 - mean_squared_error: 0.1780 - acc: 0.5095 - val_loss: 9.0379 - val_mean_squared_error: 0.2247 - val_acc: 0.4378\n",
      "Epoch 16/100\n",
      "6000/6000 [==============================] - 146s 24ms/step - loss: 5.6933 - mean_squared_error: 0.1798 - acc: 0.5022 - val_loss: 11.4010 - val_mean_squared_error: 0.2829 - val_acc: 0.2927\n",
      "Epoch 17/100\n",
      "6000/6000 [==============================] - 146s 24ms/step - loss: 5.6822 - mean_squared_error: 0.1824 - acc: 0.4699 - val_loss: 10.0216 - val_mean_squared_error: 0.2488 - val_acc: 0.3780\n",
      "Epoch 18/100\n",
      "6000/6000 [==============================] - 148s 25ms/step - loss: 5.8388 - mean_squared_error: 0.1732 - acc: 0.5257 - val_loss: 9.7015 - val_mean_squared_error: 0.2430 - val_acc: 0.3892\n",
      "Epoch 19/100\n",
      "6000/6000 [==============================] - 148s 25ms/step - loss: 5.8011 - mean_squared_error: 0.1732 - acc: 0.5325 - val_loss: 8.8401 - val_mean_squared_error: 0.2215 - val_acc: 0.4434\n",
      "Epoch 20/100\n",
      "6000/6000 [==============================] - 150s 25ms/step - loss: 5.3462 - mean_squared_error: 0.1742 - acc: 0.5040 - val_loss: 7.7792 - val_mean_squared_error: 0.2212 - val_acc: 0.3825\n",
      "Epoch 21/100\n",
      "6000/6000 [==============================] - 147s 24ms/step - loss: 5.0456 - mean_squared_error: 0.1627 - acc: 0.5292 - val_loss: 8.7204 - val_mean_squared_error: 0.2327 - val_acc: 0.3874\n",
      "Epoch 22/100\n",
      "6000/6000 [==============================] - 153s 26ms/step - loss: 5.2987 - mean_squared_error: 0.1709 - acc: 0.5062 - val_loss: 8.9838 - val_mean_squared_error: 0.2341 - val_acc: 0.3888\n",
      "Epoch 23/100\n",
      "6000/6000 [==============================] - 151s 25ms/step - loss: 5.2412 - mean_squared_error: 0.1712 - acc: 0.5059 - val_loss: 7.7206 - val_mean_squared_error: 0.2144 - val_acc: 0.4147\n",
      "Epoch 24/100\n",
      "6000/6000 [==============================] - 151s 25ms/step - loss: 4.7993 - mean_squared_error: 0.1739 - acc: 0.4575 - val_loss: 9.0950 - val_mean_squared_error: 0.2426 - val_acc: 0.3448\n",
      "Epoch 25/100\n",
      "6000/6000 [==============================] - 155s 26ms/step - loss: 5.5857 - mean_squared_error: 0.1740 - acc: 0.5012 - val_loss: 8.1804 - val_mean_squared_error: 0.2216 - val_acc: 0.4080\n",
      "Epoch 26/100\n",
      "6000/6000 [==============================] - 152s 25ms/step - loss: 3.8060 - mean_squared_error: 0.1579 - acc: 0.5029 - val_loss: 1.7770 - val_mean_squared_error: 0.1700 - val_acc: 0.3269\n",
      "Epoch 27/100\n",
      "6000/6000 [==============================] - 157s 26ms/step - loss: 2.5344 - mean_squared_error: 0.1461 - acc: 0.4780 - val_loss: 2.0477 - val_mean_squared_error: 0.1447 - val_acc: 0.4413\n",
      "Epoch 28/100\n",
      "6000/6000 [==============================] - 153s 26ms/step - loss: 3.4137 - mean_squared_error: 0.1510 - acc: 0.5101 - val_loss: 3.1244 - val_mean_squared_error: 0.1690 - val_acc: 0.4003\n",
      "Epoch 29/100\n",
      "6000/6000 [==============================] - 154s 26ms/step - loss: 2.6498 - mean_squared_error: 0.1424 - acc: 0.5225 - val_loss: 1.8236 - val_mean_squared_error: 0.1676 - val_acc: 0.3346\n",
      "Epoch 30/100\n",
      "6000/6000 [==============================] - 156s 26ms/step - loss: 2.0396 - mean_squared_error: 0.1417 - acc: 0.4621 - val_loss: 2.5741 - val_mean_squared_error: 0.1628 - val_acc: 0.3584\n",
      "Epoch 31/100\n",
      "6000/6000 [==============================] - 160s 27ms/step - loss: 2.4079 - mean_squared_error: 0.1399 - acc: 0.4920 - val_loss: 3.7470 - val_mean_squared_error: 0.1733 - val_acc: 0.4136\n",
      "Epoch 32/100\n",
      "6000/6000 [==============================] - 158s 26ms/step - loss: 2.5076 - mean_squared_error: 0.1436 - acc: 0.4978 - val_loss: 1.7788 - val_mean_squared_error: 0.1639 - val_acc: 0.3325\n",
      "Epoch 33/100\n",
      "6000/6000 [==============================] - 159s 27ms/step - loss: 2.0560 - mean_squared_error: 0.1380 - acc: 0.4898 - val_loss: 1.5948 - val_mean_squared_error: 0.1590 - val_acc: 0.3308\n",
      "Epoch 34/100\n",
      "6000/6000 [==============================] - 158s 26ms/step - loss: 1.9429 - mean_squared_error: 0.1411 - acc: 0.4527 - val_loss: 1.8431 - val_mean_squared_error: 0.1563 - val_acc: 0.3416\n",
      "Epoch 35/100\n",
      "6000/6000 [==============================] - 159s 26ms/step - loss: 1.7919 - mean_squared_error: 0.1448 - acc: 0.4073 - val_loss: 2.5981 - val_mean_squared_error: 0.1603 - val_acc: 0.3517\n",
      "Epoch 36/100\n",
      "6000/6000 [==============================] - 161s 27ms/step - loss: 2.4069 - mean_squared_error: 0.1377 - acc: 0.5026 - val_loss: 3.6313 - val_mean_squared_error: 0.1739 - val_acc: 0.4143\n",
      "Epoch 37/100\n",
      "6000/6000 [==============================] - 160s 27ms/step - loss: 2.6029 - mean_squared_error: 0.1435 - acc: 0.5065 - val_loss: 2.1924 - val_mean_squared_error: 0.1734 - val_acc: 0.3476\n",
      "Epoch 38/100\n",
      "6000/6000 [==============================] - 161s 27ms/step - loss: 2.3074 - mean_squared_error: 0.1396 - acc: 0.5077 - val_loss: 2.5355 - val_mean_squared_error: 0.1665 - val_acc: 0.3927\n",
      "Epoch 39/100\n",
      "6000/6000 [==============================] - 162s 27ms/step - loss: 2.6906 - mean_squared_error: 0.1462 - acc: 0.4925 - val_loss: 1.8793 - val_mean_squared_error: 0.1625 - val_acc: 0.3724\n",
      "Epoch 40/100\n",
      "6000/6000 [==============================] - 160s 27ms/step - loss: 2.3050 - mean_squared_error: 0.1424 - acc: 0.4989 - val_loss: 2.5065 - val_mean_squared_error: 0.1614 - val_acc: 0.3832\n",
      "Epoch 41/100\n",
      "6000/6000 [==============================] - 161s 27ms/step - loss: 1.9871 - mean_squared_error: 0.1393 - acc: 0.4704 - val_loss: 1.5413 - val_mean_squared_error: 0.1532 - val_acc: 0.3360\n"
     ]
    },
    {
     "name": "stdout",
     "output_type": "stream",
     "text": [
      "Epoch 42/100\n",
      "6000/6000 [==============================] - 143s 24ms/step - loss: 2.2200 - mean_squared_error: 0.1395 - acc: 0.4870 - val_loss: 1.5489 - val_mean_squared_error: 0.1561 - val_acc: 0.3490\n",
      "Epoch 43/100\n",
      "6000/6000 [==============================] - 141s 23ms/step - loss: 2.5245 - mean_squared_error: 0.1409 - acc: 0.5098 - val_loss: 3.5907 - val_mean_squared_error: 0.1766 - val_acc: 0.3843\n",
      "Epoch 44/100\n",
      "6000/6000 [==============================] - 149s 25ms/step - loss: 2.8468 - mean_squared_error: 0.1435 - acc: 0.5306 - val_loss: 2.6922 - val_mean_squared_error: 0.1764 - val_acc: 0.3594\n",
      "Epoch 45/100\n",
      "6000/6000 [==============================] - 142s 24ms/step - loss: 2.3538 - mean_squared_error: 0.1446 - acc: 0.4849 - val_loss: 4.2909 - val_mean_squared_error: 0.1801 - val_acc: 0.3976\n",
      "Epoch 46/100\n",
      "6000/6000 [==============================] - 145s 24ms/step - loss: 3.2876 - mean_squared_error: 0.1470 - acc: 0.5304 - val_loss: 2.8513 - val_mean_squared_error: 0.1693 - val_acc: 0.4269\n",
      "Epoch 47/100\n",
      "6000/6000 [==============================] - 145s 24ms/step - loss: 2.4884 - mean_squared_error: 0.1493 - acc: 0.4830 - val_loss: 2.4473 - val_mean_squared_error: 0.1609 - val_acc: 0.3776\n",
      "Epoch 48/100\n",
      "6000/6000 [==============================] - 145s 24ms/step - loss: 2.7838 - mean_squared_error: 0.1426 - acc: 0.5164 - val_loss: 2.4755 - val_mean_squared_error: 0.1652 - val_acc: 0.3972\n",
      "Epoch 49/100\n",
      "6000/6000 [==============================] - 150s 25ms/step - loss: 2.6578 - mean_squared_error: 0.1438 - acc: 0.5145 - val_loss: 1.8177 - val_mean_squared_error: 0.1609 - val_acc: 0.3906\n",
      "Epoch 50/100\n",
      "6000/6000 [==============================] - 141s 23ms/step - loss: 2.6383 - mean_squared_error: 0.1411 - acc: 0.5252 - val_loss: 1.7831 - val_mean_squared_error: 0.1752 - val_acc: 0.3350\n",
      "Epoch 51/100\n",
      "6000/6000 [==============================] - 153s 25ms/step - loss: 2.8850 - mean_squared_error: 0.1451 - acc: 0.5209 - val_loss: 5.0557 - val_mean_squared_error: 0.1869 - val_acc: 0.4434\n",
      "Epoch 52/100\n",
      "6000/6000 [==============================] - 149s 25ms/step - loss: 4.0376 - mean_squared_error: 0.1592 - acc: 0.5349 - val_loss: 2.2557 - val_mean_squared_error: 0.1877 - val_acc: 0.3594\n",
      "Epoch 53/100\n",
      "6000/6000 [==============================] - 145s 24ms/step - loss: 2.5841 - mean_squared_error: 0.1469 - acc: 0.5094 - val_loss: 2.2210 - val_mean_squared_error: 0.1673 - val_acc: 0.3874\n",
      "Epoch 54/100\n",
      "6000/6000 [==============================] - 148s 25ms/step - loss: 2.5149 - mean_squared_error: 0.1399 - acc: 0.5288 - val_loss: 1.8995 - val_mean_squared_error: 0.1746 - val_acc: 0.3360\n",
      "Epoch 55/100\n",
      "6000/6000 [==============================] - 149s 25ms/step - loss: 3.1420 - mean_squared_error: 0.1507 - acc: 0.5137 - val_loss: 3.5803 - val_mean_squared_error: 0.1745 - val_acc: 0.4164\n",
      "Epoch 56/100\n",
      "6000/6000 [==============================] - 152s 25ms/step - loss: 2.4528 - mean_squared_error: 0.1401 - acc: 0.5204 - val_loss: 2.0553 - val_mean_squared_error: 0.1678 - val_acc: 0.3605\n",
      "Epoch 57/100\n",
      "6000/6000 [==============================] - 145s 24ms/step - loss: 2.9054 - mean_squared_error: 0.1440 - acc: 0.5324 - val_loss: 3.3506 - val_mean_squared_error: 0.1759 - val_acc: 0.4112\n",
      "Epoch 58/100\n",
      "6000/6000 [==============================] - 145s 24ms/step - loss: 3.0224 - mean_squared_error: 0.1483 - acc: 0.5173 - val_loss: 1.9592 - val_mean_squared_error: 0.1692 - val_acc: 0.3647\n",
      "Epoch 59/100\n",
      "6000/6000 [==============================] - 147s 24ms/step - loss: 2.6861 - mean_squared_error: 0.1411 - acc: 0.5287 - val_loss: 2.8959 - val_mean_squared_error: 0.1758 - val_acc: 0.3906\n",
      "Epoch 60/100\n",
      "6000/6000 [==============================] - 149s 25ms/step - loss: 3.5143 - mean_squared_error: 0.1543 - acc: 0.5232 - val_loss: 2.5297 - val_mean_squared_error: 0.1821 - val_acc: 0.3535\n",
      "Epoch 61/100\n",
      "6000/6000 [==============================] - 149s 25ms/step - loss: 3.3546 - mean_squared_error: 0.1516 - acc: 0.5224 - val_loss: 6.1504 - val_mean_squared_error: 0.2021 - val_acc: 0.4297\n",
      "Epoch 62/100\n",
      "6000/6000 [==============================] - 152s 25ms/step - loss: 3.3628 - mean_squared_error: 0.1547 - acc: 0.5135 - val_loss: 4.4293 - val_mean_squared_error: 0.2014 - val_acc: 0.3409\n",
      "Epoch 63/100\n",
      "6000/6000 [==============================] - 150s 25ms/step - loss: 3.0467 - mean_squared_error: 0.1474 - acc: 0.5177 - val_loss: 7.1028 - val_mean_squared_error: 0.2208 - val_acc: 0.3776\n",
      "Epoch 64/100\n",
      "6000/6000 [==============================] - 149s 25ms/step - loss: 3.1953 - mean_squared_error: 0.1531 - acc: 0.5003 - val_loss: 2.8428 - val_mean_squared_error: 0.1736 - val_acc: 0.3671\n",
      "Epoch 65/100\n",
      "6000/6000 [==============================] - 151s 25ms/step - loss: 2.8074 - mean_squared_error: 0.1419 - acc: 0.5316 - val_loss: 3.9226 - val_mean_squared_error: 0.1864 - val_acc: 0.3808\n",
      "Epoch 66/100\n",
      "6000/6000 [==============================] - 152s 25ms/step - loss: 2.7135 - mean_squared_error: 0.1458 - acc: 0.5043 - val_loss: 1.9184 - val_mean_squared_error: 0.1710 - val_acc: 0.3441\n",
      "Epoch 67/100\n",
      "6000/6000 [==============================] - 157s 26ms/step - loss: 2.3163 - mean_squared_error: 0.1375 - acc: 0.5175 - val_loss: 2.2822 - val_mean_squared_error: 0.1696 - val_acc: 0.3619\n",
      "Epoch 68/100\n",
      "6000/6000 [==============================] - 151s 25ms/step - loss: 2.8134 - mean_squared_error: 0.1472 - acc: 0.5032 - val_loss: 1.6949 - val_mean_squared_error: 0.1618 - val_acc: 0.3556\n",
      "Epoch 69/100\n",
      "6000/6000 [==============================] - 148s 25ms/step - loss: 2.7966 - mean_squared_error: 0.1410 - acc: 0.5280 - val_loss: 1.7993 - val_mean_squared_error: 0.1660 - val_acc: 0.3661\n",
      "Epoch 70/100\n",
      "6000/6000 [==============================] - 156s 26ms/step - loss: 2.3327 - mean_squared_error: 0.1415 - acc: 0.4939 - val_loss: 2.6856 - val_mean_squared_error: 0.1645 - val_acc: 0.4028\n",
      "Epoch 71/100\n",
      "6000/6000 [==============================] - 152s 25ms/step - loss: 2.6621 - mean_squared_error: 0.1399 - acc: 0.5267 - val_loss: 3.7807 - val_mean_squared_error: 0.1833 - val_acc: 0.3902\n",
      "Epoch 72/100\n",
      "6000/6000 [==============================] - 153s 26ms/step - loss: 3.3543 - mean_squared_error: 0.1492 - acc: 0.5268 - val_loss: 4.0442 - val_mean_squared_error: 0.1799 - val_acc: 0.4346\n",
      "Epoch 73/100\n",
      "6000/6000 [==============================] - 159s 27ms/step - loss: 2.7227 - mean_squared_error: 0.1452 - acc: 0.5211 - val_loss: 2.8305 - val_mean_squared_error: 0.1801 - val_acc: 0.3636\n",
      "Epoch 74/100\n",
      "6000/6000 [==============================] - 156s 26ms/step - loss: 2.6297 - mean_squared_error: 0.1410 - acc: 0.5269 - val_loss: 3.5371 - val_mean_squared_error: 0.1823 - val_acc: 0.3846\n",
      "Epoch 75/100\n",
      "6000/6000 [==============================] - 156s 26ms/step - loss: 2.9642 - mean_squared_error: 0.1460 - acc: 0.5262 - val_loss: 4.2214 - val_mean_squared_error: 0.1953 - val_acc: 0.3538\n",
      "Epoch 76/100\n",
      "6000/6000 [==============================] - 155s 26ms/step - loss: 2.9228 - mean_squared_error: 0.1450 - acc: 0.5255 - val_loss: 1.9793 - val_mean_squared_error: 0.1730 - val_acc: 0.3619\n",
      "Epoch 77/100\n",
      "6000/6000 [==============================] - 152s 25ms/step - loss: 3.3368 - mean_squared_error: 0.1501 - acc: 0.5265 - val_loss: 3.7727 - val_mean_squared_error: 0.1832 - val_acc: 0.4150\n",
      "Epoch 78/100\n",
      "6000/6000 [==============================] - 157s 26ms/step - loss: 3.0574 - mean_squared_error: 0.1450 - acc: 0.5459 - val_loss: 4.9672 - val_mean_squared_error: 0.1906 - val_acc: 0.4381\n",
      "Epoch 79/100\n",
      "6000/6000 [==============================] - 155s 26ms/step - loss: 3.1060 - mean_squared_error: 0.1514 - acc: 0.5230 - val_loss: 2.6941 - val_mean_squared_error: 0.1736 - val_acc: 0.3874\n",
      "Epoch 80/100\n",
      "6000/6000 [==============================] - 157s 26ms/step - loss: 2.7584 - mean_squared_error: 0.1403 - acc: 0.5444 - val_loss: 3.1112 - val_mean_squared_error: 0.1836 - val_acc: 0.3822\n",
      "Epoch 81/100\n",
      "6000/6000 [==============================] - 160s 27ms/step - loss: 3.1807 - mean_squared_error: 0.1511 - acc: 0.5183 - val_loss: 3.5983 - val_mean_squared_error: 0.1859 - val_acc: 0.3776\n",
      "Epoch 82/100\n",
      "6000/6000 [==============================] - 151s 25ms/step - loss: 3.1976 - mean_squared_error: 0.1532 - acc: 0.5109 - val_loss: 2.5499 - val_mean_squared_error: 0.1748 - val_acc: 0.3640\n"
     ]
    },
    {
     "name": "stdout",
     "output_type": "stream",
     "text": [
      "Epoch 83/100\n",
      "6000/6000 [==============================] - 146s 24ms/step - loss: 2.3250 - mean_squared_error: 0.1429 - acc: 0.4915 - val_loss: 1.7290 - val_mean_squared_error: 0.1700 - val_acc: 0.3140\n",
      "Epoch 84/100\n",
      "6000/6000 [==============================] - 151s 25ms/step - loss: 1.7666 - mean_squared_error: 0.1387 - acc: 0.4566 - val_loss: 1.5959 - val_mean_squared_error: 0.1534 - val_acc: 0.3353\n",
      "Epoch 85/100\n",
      "6000/6000 [==============================] - 148s 25ms/step - loss: 2.3476 - mean_squared_error: 0.1408 - acc: 0.4822 - val_loss: 1.9765 - val_mean_squared_error: 0.1643 - val_acc: 0.3385\n",
      "Epoch 86/100\n",
      "6000/6000 [==============================] - 148s 25ms/step - loss: 1.9971 - mean_squared_error: 0.1379 - acc: 0.4827 - val_loss: 1.6235 - val_mean_squared_error: 0.1568 - val_acc: 0.3423\n",
      "Epoch 87/100\n",
      "6000/6000 [==============================] - 145s 24ms/step - loss: 2.4537 - mean_squared_error: 0.1404 - acc: 0.5013 - val_loss: 2.0812 - val_mean_squared_error: 0.1697 - val_acc: 0.3444\n",
      "Epoch 88/100\n",
      "6000/6000 [==============================] - 146s 24ms/step - loss: 2.8905 - mean_squared_error: 0.1504 - acc: 0.4899 - val_loss: 2.4628 - val_mean_squared_error: 0.1802 - val_acc: 0.3266\n",
      "Epoch 89/100\n",
      "6000/6000 [==============================] - 149s 25ms/step - loss: 2.4415 - mean_squared_error: 0.1452 - acc: 0.4764 - val_loss: 4.8780 - val_mean_squared_error: 0.1825 - val_acc: 0.4357\n",
      "Epoch 90/100\n",
      "6000/6000 [==============================] - 148s 25ms/step - loss: 3.7693 - mean_squared_error: 0.1566 - acc: 0.5242 - val_loss: 2.2610 - val_mean_squared_error: 0.1798 - val_acc: 0.3591\n",
      "Epoch 91/100\n",
      "6000/6000 [==============================] - 145s 24ms/step - loss: 2.8650 - mean_squared_error: 0.1452 - acc: 0.5256 - val_loss: 2.1614 - val_mean_squared_error: 0.1802 - val_acc: 0.3580\n",
      "Epoch 92/100\n",
      "6000/6000 [==============================] - 150s 25ms/step - loss: 2.6350 - mean_squared_error: 0.1460 - acc: 0.5081 - val_loss: 2.4816 - val_mean_squared_error: 0.1744 - val_acc: 0.3510\n",
      "Epoch 93/100\n",
      "6000/6000 [==============================] - 150s 25ms/step - loss: 3.2644 - mean_squared_error: 0.1485 - acc: 0.5264 - val_loss: 4.0175 - val_mean_squared_error: 0.1813 - val_acc: 0.4269\n",
      "Epoch 94/100\n",
      "6000/6000 [==============================] - 151s 25ms/step - loss: 2.8893 - mean_squared_error: 0.1501 - acc: 0.5114 - val_loss: 1.7173 - val_mean_squared_error: 0.1646 - val_acc: 0.3521\n",
      "Epoch 95/100\n",
      "6000/6000 [==============================] - 148s 25ms/step - loss: 1.8799 - mean_squared_error: 0.1412 - acc: 0.4641 - val_loss: 1.5446 - val_mean_squared_error: 0.1532 - val_acc: 0.3325\n",
      "Epoch 96/100\n",
      "6000/6000 [==============================] - 149s 25ms/step - loss: 1.9408 - mean_squared_error: 0.1403 - acc: 0.4524 - val_loss: 1.5629 - val_mean_squared_error: 0.1546 - val_acc: 0.3038\n",
      "Epoch 97/100\n",
      "6000/6000 [==============================] - 150s 25ms/step - loss: 2.2325 - mean_squared_error: 0.1340 - acc: 0.5157 - val_loss: 3.6143 - val_mean_squared_error: 0.1786 - val_acc: 0.3689\n",
      "Epoch 98/100\n",
      "6000/6000 [==============================] - 151s 25ms/step - loss: 2.9258 - mean_squared_error: 0.1439 - acc: 0.5196 - val_loss: 4.2553 - val_mean_squared_error: 0.1815 - val_acc: 0.4119\n",
      "Epoch 99/100\n",
      "6000/6000 [==============================] - 151s 25ms/step - loss: 2.2972 - mean_squared_error: 0.1389 - acc: 0.5165 - val_loss: 1.6627 - val_mean_squared_error: 0.1647 - val_acc: 0.3374\n",
      "Epoch 100/100\n",
      "6000/6000 [==============================] - 150s 25ms/step - loss: 1.9940 - mean_squared_error: 0.1377 - acc: 0.4847 - val_loss: 2.5257 - val_mean_squared_error: 0.1583 - val_acc: 0.3976\n"
     ]
    }
   ],
   "source": [
    "def generate_data(x, y, batch_size):\n",
    "    list_x = []\n",
    "    list_y = []\n",
    "    count = 0\n",
    "    index = np.arange(len(x))\n",
    "    np.random.shuffle(index)\n",
    "    x = x[index]\n",
    "    y = y[index]\n",
    "\n",
    "    while True:\n",
    "        for i in range(len(x)):\n",
    "            raw = x[i]\n",
    "            sz = raw.shape\n",
    "            \n",
    "            label = np.argmax(y[i,:])\n",
    "            dict_label = [100, 200, 200, 600, 600]\n",
    "            num = dict_label[label]\n",
    "            \n",
    "            for j in range(num):\n",
    "                r = random.randint(0, sz[0]-128)\n",
    "                c = random.randint(0, sz[1]-128)\n",
    "                list_x.append(raw[r:r+128,c:c+128,:])\n",
    "                list_y.append(y[i])\n",
    "                count += 1\n",
    "                if count >= batch_size:\n",
    "                    yield (np.array(list_x), np.array(list_y))\n",
    "                    count = 0\n",
    "                    list_x = []\n",
    "                    list_y = []\n",
    "                        \n",
    "generator = generate_data(X_train, y_train, batch_size)\n",
    "hist = model.fit_generator(generator=generator,\n",
    "                    validation_data=(X_val_aug, y_val_aug),\n",
    "                    epochs=num_epoch, \n",
    "                    steps_per_epoch=(train_size*300)//batch_size,\n",
    "#                     validation_steps=val_size//batch_size,\n",
    "                    callbacks=[TensorBoard(log_dir='./tmp/log')]\n",
    "                   )"
   ]
  },
  {
   "cell_type": "code",
   "execution_count": 98,
   "metadata": {},
   "outputs": [
    {
     "name": "stdout",
     "output_type": "stream",
     "text": [
      "7,10\n",
      "0,3\n",
      "4,19\n",
      "6,3\n",
      "10,19\n",
      "2,19\n",
      "9,3\n",
      "9,10\n",
      "8,7\n",
      "5,15\n"
     ]
    }
   ],
   "source": [
    "for j in range(10):\n",
    "    r = random.randint(0, 10)\n",
    "    c = random.randint(0, 20)\n",
    "    print(str(r) + ',' + str(c))"
   ]
  },
  {
   "cell_type": "code",
   "execution_count": 115,
   "metadata": {},
   "outputs": [],
   "source": [
    "train_loss = hist.history['loss']\n",
    "val_loss = hist.history['val_loss']\n",
    "train_acc = hist.history['acc']\n",
    "val_acc = hist.history['val_acc']"
   ]
  },
  {
   "cell_type": "code",
   "execution_count": 116,
   "metadata": {},
   "outputs": [
    {
     "data": {
      "text/plain": [
       "<matplotlib.legend.Legend at 0x7f4862854940>"
      ]
     },
     "execution_count": 116,
     "metadata": {},
     "output_type": "execute_result"
    },
    {
     "data": {
      "image/png": "[encoded data removed]",
      "text/plain": [
       "<Figure size 432x288 with 1 Axes>"
      ]
     },
     "metadata": {},
     "output_type": "display_data"
    }
   ],
   "source": [
    "plt.plot(train_loss); plt.title('train loss')\n",
    "plt.plot(val_loss); plt.title('val loss')\n",
    "plt.legend(['train loss', 'val_loss'])"
   ]
  },
  {
   "cell_type": "code",
   "execution_count": 117,
   "metadata": {
    "scrolled": true
   },
   "outputs": [
    {
     "data": {
      "text/plain": [
       "(0, 1)"
      ]
     },
     "execution_count": 117,
     "metadata": {},
     "output_type": "execute_result"
    },
    {
     "data": {
      "image/png": "[encoded data removed]",
      "text/plain": [
       "<Figure size 432x288 with 1 Axes>"
      ]
     },
     "metadata": {},
     "output_type": "display_data"
    }
   ],
   "source": [
    "plt.plot(train_acc); plt.title('train acc')\n",
    "plt.plot(val_acc); plt.title('val acc')\n",
    "plt.legend(['train acc', 'val acc'])\n",
    "plt.grid(True)\n",
    "plt.ylim(0,1)"
   ]
  },
  {
   "cell_type": "code",
   "execution_count": 149,
   "metadata": {},
   "outputs": [],
   "source": [
    "gestures = ['none', 'left', 'right', 'click', 'wrist']"
   ]
  },
  {
   "cell_type": "code",
   "execution_count": 15,
   "metadata": {},
   "outputs": [],
   "source": [
    "np.save('X.npy', X)\n",
    "np.save('y.npy', y)"
   ]
  },
  {
   "cell_type": "code",
   "execution_count": null,
   "metadata": {},
   "outputs": [],
   "source": []
  }
 ],
 "metadata": {
  "kernelspec": {
   "display_name": "Python 3",
   "language": "python",
   "name": "python3"
  },
  "language_info": {
   "codemirror_mode": {
    "name": "ipython",
    "version": 3
   },
   "file_extension": ".py",
   "mimetype": "text/x-python",
   "name": "python",
   "nbconvert_exporter": "python",
   "pygments_lexer": "ipython3",
   "version": "3.5.2"
  }
 },
 "nbformat": 4,
 "nbformat_minor": 2
}
