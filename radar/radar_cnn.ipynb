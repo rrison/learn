{
 "cells": [
  {
   "cell_type": "code",
   "execution_count": 1,
   "metadata": {},
   "outputs": [
    {
     "name": "stderr",
     "output_type": "stream",
     "text": [
      "/home/xd/ws/tf/lib/python3.5/site-packages/h5py/__init__.py:36: FutureWarning: Conversion of the second argument of issubdtype from `float` to `np.floating` is deprecated. In future, it will be treated as `np.float64 == np.dtype(float).type`.\n",
      "  from ._conv import register_converters as _register_converters\n",
      "Using TensorFlow backend.\n",
      "/home/xd/ws/tf/lib/python3.5/site-packages/sklearn/cross_validation.py:41: DeprecationWarning: This module was deprecated in version 0.18 in favor of the model_selection module into which all the refactored classes and functions are moved. Also note that the interface of the new CV iterators are different from that of this module. This module will be removed in 0.20.\n",
      "  \"This module will be removed in 0.20.\", DeprecationWarning)\n"
     ]
    }
   ],
   "source": [
    "from keras.preprocessing.image import ImageDataGenerator\n",
    "from keras.models import Sequential, load_model\n",
    "from keras.layers.core import Dense, Dropout, Activation, Flatten\n",
    "from keras.layers.convolutional import Convolution2D, MaxPooling2D, Conv2D\n",
    "from keras.optimizers import SGD, RMSprop\n",
    "from keras.utils import np_utils, generic_utils\n",
    "from keras.callbacks import TensorBoard\n",
    "from keras import backend as K\n",
    "\n",
    "\n",
    "import tensorflow as tf\n",
    "import os\n",
    "import matplotlib\n",
    "import matplotlib.pyplot as plt\n",
    "import matplotlib.pyplot as pyplot\n",
    "\n",
    "import numpy as np\n",
    "import scipy.io\n",
    "from PIL import Image\n",
    "from sklearn.cross_validation import train_test_split\n",
    "from sklearn import cross_validation\n",
    "from sklearn import preprocessing\n",
    "from IPython import display\n",
    "from datetime import datetime\n",
    "import time\n",
    "import random\n",
    "\n",
    "img_rows, img_cols, img_depth = 128, 128, 3"
   ]
  },
  {
   "cell_type": "code",
   "execution_count": 2,
   "metadata": {},
   "outputs": [],
   "source": [
    "root_dir = 'dataset/train/'\n",
    "listing = os.listdir(root_dir)\n",
    "listing = sorted(listing)\n",
    "\n",
    "classes = {'none':0, 'left':1, 'right':2, 'click':3, 'wrist':4}\n",
    "gs_class = {'left', 'right', 'click', 'wrist'}\n",
    "num_classes = len(classes)"
   ]
  },
  {
   "cell_type": "code",
   "execution_count": 3,
   "metadata": {},
   "outputs": [],
   "source": [
    "def set_groundtruth(filename):\n",
    "    gs_class = {'left', 'right', 'click', 'wrist'}\n",
    "    gt = 'none'\n",
    "    for i in gs_class:\n",
    "        idx = filename.find(i)\n",
    "        if idx != -1:\n",
    "            gt = i\n",
    "            return gt"
   ]
  },
  {
   "cell_type": "code",
   "execution_count": 4,
   "metadata": {},
   "outputs": [],
   "source": [
    "def generate_data_from_folder(root_dir):\n",
    "    X = []\n",
    "    y = []\n",
    "    \n",
    "    listing = os.listdir(root_dir)\n",
    "    listing = sorted(listing)\n",
    "    width = 128 # input image shape = [width, width, 3]\n",
    "    delta = 12 # 12*0.625cm = 7.5cm\n",
    "    esp = 1e-6\n",
    "\n",
    "    for file in listing:\n",
    "        \n",
    "        # set ground truth\n",
    "        gt = set_groundtruth(file)\n",
    "        \n",
    "        file = root_dir + file\n",
    "        data = scipy.io.loadmat(file)\n",
    "        \n",
    "        raw = data['raw']\n",
    "        label = data['label']\n",
    "        speed = data['speed']\n",
    "        phase = data['phase']\n",
    "        mask = data['mask']\n",
    "    \n",
    "        label_mask = (label != 0)\n",
    "        label_sum = np.sum(label_mask) # total frames of labels\n",
    "    \n",
    "        gs_mask = mask[label_mask[:,0], :]\n",
    "        gs_window = np.sum(gs_mask, 0) / label_sum\n",
    "        maxval = np.max(gs_window[width:])\n",
    "        maxidx = np.argmax(gs_window[width:])\n",
    "    \n",
    "        if maxval < 0.3:\n",
    "            continue\n",
    "        \n",
    "        gesture_index, b = np.nonzero(label)\n",
    "    \n",
    "        # set gesture region, [r_min:r_max, c_min:c_max]\n",
    "        r_min, r_max = gesture_index[0], gesture_index[-1]\n",
    "        r_min = max(r_min - delta, 0)\n",
    "        r_max = max(r_min + width + delta, r_max)\n",
    "        r_max = min(r_max, len(label))\n",
    "\n",
    "        body_pos = maxidx + width\n",
    "        c_max = body_pos\n",
    "        c_min = max(c_max - width -delta, 0)\n",
    "        \n",
    "    \n",
    "        if (r_max - r_min < width) or (c_max - c_min < width):\n",
    "            print(str(c_max-c_min) + ',' + str(r_max-r_min))\n",
    "            continue\n",
    "    \n",
    "        raw_rdm = raw[r_min:r_max, c_min:c_max]\n",
    "        maxval = np.max(np.abs(raw_rdm)) + esp\n",
    "        raw_rdm = raw_rdm / maxval\n",
    "    \n",
    "        speed_rdm = speed[r_min:r_max, c_min:c_max]\n",
    "        maxval = np.max(np.abs(speed_rdm)) + esp\n",
    "        speed_rdm = speed_rdm / maxval\n",
    "    \n",
    "        phase_rdm = phase[r_min:r_max, c_min:c_max]\n",
    "        maxval = np.max(np.abs(phase_rdm)) + esp\n",
    "        phase_rdm = phase_rdm / maxval\n",
    "    \n",
    "        raw_input = np.zeros((r_max-r_min, c_max-c_min, 3))\n",
    "        raw_input[:,:,0] = raw_rdm\n",
    "        raw_input[:,:,1] = speed_rdm\n",
    "        raw_input[:,:,2] = phase_rdm\n",
    "        X.append(raw_input)\n",
    "        y.append(classes[gt])\n",
    "\n",
    "        # generate negtive samples\n",
    "        if random.random() > 0.25:\n",
    "            continue\n",
    "        gt = 'none'\n",
    "        r_min = int((gesture_index[0] + gesture_index[-1]) / 2)\n",
    "        r_max = len(label)\n",
    "\n",
    "        body_pos = maxidx + width\n",
    "        c_max = body_pos\n",
    "        c_min = max(c_max - width -delta, 0)\n",
    "    \n",
    "        if (r_max - r_min < width) or (c_max - c_min < width):\n",
    "            print(str(c_max-c_min) + ',' + str(r_max-r_min))\n",
    "            continue\n",
    "    \n",
    "        raw_rdm = raw[r_min:r_max, c_min:c_max]\n",
    "        maxval = np.max(np.abs(raw_rdm)) + esp\n",
    "        raw_rdm = raw_rdm / maxval\n",
    "    \n",
    "        speed_rdm = speed[r_min:r_max, c_min:c_max]\n",
    "        maxval = np.max(np.abs(speed_rdm)) + esp\n",
    "        speed_rdm = speed_rdm / maxval\n",
    "    \n",
    "        phase_rdm = phase[r_min:r_max, c_min:c_max]\n",
    "        maxval = np.max(np.abs(phase_rdm)) + esp\n",
    "        phase_rdm = phase_rdm / maxval\n",
    "    \n",
    "        raw_input = np.zeros((r_max-r_min, c_max-c_min, 3))\n",
    "        raw_input[:,:,0] = raw_rdm\n",
    "        raw_input[:,:,1] = speed_rdm\n",
    "        raw_input[:,:,2] = phase_rdm\n",
    "    \n",
    "        X.append(raw_input)\n",
    "        y.append(classes[gt])\n",
    "    return np.array(X), np.array(y)"
   ]
  },
  {
   "cell_type": "code",
   "execution_count": 5,
   "metadata": {},
   "outputs": [
    {
     "name": "stdout",
     "output_type": "stream",
     "text": [
      "140,122\n",
      "140,110\n"
     ]
    }
   ],
   "source": [
    "X_train, y_train = generate_data_from_folder('dataset/train/')\n",
    "X_val, y_val = generate_data_from_folder('dataset/test/')"
   ]
  },
  {
   "cell_type": "code",
   "execution_count": 6,
   "metadata": {},
   "outputs": [
    {
     "name": "stdout",
     "output_type": "stream",
     "text": [
      "y_train label:\n",
      "157.0\n",
      "155.0\n",
      "174.0\n",
      "157.0\n",
      "166.0\n"
     ]
    }
   ],
   "source": [
    "labels = np.zeros((5))\n",
    "for i in range(0, 5):\n",
    "    labels[i] = np.sum(y_train == i)\n",
    "    \n",
    "print('y_train label:')\n",
    "for i in range(5):\n",
    "    print(labels[i])\n",
    "    "
   ]
  },
  {
   "cell_type": "code",
   "execution_count": 7,
   "metadata": {},
   "outputs": [],
   "source": [
    "y_train = np_utils.to_categorical(y_train, num_classes)\n",
    "y_val = np_utils.to_categorical(y_val, num_classes)\n",
    "\n",
    "num_filters = [32, 32]\n",
    "num_pool = [2, 4]\n",
    "num_conv = [5, 3]\n",
    "\n",
    "# X = X.astype('float32')"
   ]
  },
  {
   "cell_type": "code",
   "execution_count": 8,
   "metadata": {},
   "outputs": [],
   "source": [
    "# X_train, X_val, y_train, y_val = train_test_split(X, y, test_size=0.2, random_state=42)"
   ]
  },
  {
   "cell_type": "code",
   "execution_count": 9,
   "metadata": {},
   "outputs": [],
   "source": [
    "batch_size = 32\n",
    "num_classes = 5\n",
    "num_epoch = 50\n",
    "train_size = len(X_train)\n",
    "val_size = len(X_val)"
   ]
  },
  {
   "cell_type": "code",
   "execution_count": 10,
   "metadata": {},
   "outputs": [
    {
     "name": "stdout",
     "output_type": "stream",
     "text": [
      "_________________________________________________________________\n",
      "Layer (type)                 Output Shape              Param #   \n",
      "=================================================================\n",
      "conv2d_1 (Conv2D)            (None, 128, 128, 8)       224       \n",
      "_________________________________________________________________\n",
      "conv2d_2 (Conv2D)            (None, 128, 128, 8)       584       \n",
      "_________________________________________________________________\n",
      "max_pooling2d_1 (MaxPooling2 (None, 64, 64, 8)         0         \n",
      "_________________________________________________________________\n",
      "dropout_1 (Dropout)          (None, 64, 64, 8)         0         \n",
      "_________________________________________________________________\n",
      "conv2d_3 (Conv2D)            (None, 64, 64, 16)        1168      \n",
      "_________________________________________________________________\n",
      "conv2d_4 (Conv2D)            (None, 64, 64, 16)        2320      \n",
      "_________________________________________________________________\n",
      "max_pooling2d_2 (MaxPooling2 (None, 32, 32, 16)        0         \n",
      "_________________________________________________________________\n",
      "dropout_2 (Dropout)          (None, 32, 32, 16)        0         \n",
      "_________________________________________________________________\n",
      "conv2d_5 (Conv2D)            (None, 32, 32, 32)        4640      \n",
      "_________________________________________________________________\n",
      "conv2d_6 (Conv2D)            (None, 32, 32, 32)        9248      \n",
      "_________________________________________________________________\n",
      "max_pooling2d_3 (MaxPooling2 (None, 16, 16, 32)        0         \n",
      "_________________________________________________________________\n",
      "dropout_3 (Dropout)          (None, 16, 16, 32)        0         \n",
      "_________________________________________________________________\n",
      "conv2d_7 (Conv2D)            (None, 16, 16, 32)        9248      \n",
      "_________________________________________________________________\n",
      "conv2d_8 (Conv2D)            (None, 16, 16, 32)        9248      \n",
      "_________________________________________________________________\n",
      "max_pooling2d_4 (MaxPooling2 (None, 8, 8, 32)          0         \n",
      "_________________________________________________________________\n",
      "dropout_4 (Dropout)          (None, 8, 8, 32)          0         \n",
      "_________________________________________________________________\n",
      "conv2d_9 (Conv2D)            (None, 8, 8, 32)          9248      \n",
      "_________________________________________________________________\n",
      "conv2d_10 (Conv2D)           (None, 8, 8, 32)          9248      \n",
      "_________________________________________________________________\n",
      "max_pooling2d_5 (MaxPooling2 (None, 4, 4, 32)          0         \n",
      "_________________________________________________________________\n",
      "dropout_5 (Dropout)          (None, 4, 4, 32)          0         \n",
      "_________________________________________________________________\n",
      "flatten_1 (Flatten)          (None, 512)               0         \n",
      "_________________________________________________________________\n",
      "dense_1 (Dense)              (None, 40)                20520     \n",
      "_________________________________________________________________\n",
      "dropout_6 (Dropout)          (None, 40)                0         \n",
      "_________________________________________________________________\n",
      "dense_2 (Dense)              (None, 5)                 205       \n",
      "_________________________________________________________________\n",
      "activation_1 (Activation)    (None, 5)                 0         \n",
      "=================================================================\n",
      "Total params: 75,901\n",
      "Trainable params: 75,901\n",
      "Non-trainable params: 0\n",
      "_________________________________________________________________\n"
     ]
    }
   ],
   "source": [
    "K.clear_session()\n",
    "model = Sequential()\n",
    "\n",
    "model.add(Conv2D(8,\n",
    "                 (3, 3),\n",
    "                 input_shape=(128, 128, 3),\n",
    "                 activation='relu',\n",
    "                 padding='SAME'))\n",
    "model.add(Conv2D(8,\n",
    "                 (3, 3),\n",
    "                 activation='relu',\n",
    "                 padding='SAME'))\n",
    "model.add(MaxPooling2D(pool_size=2))\n",
    "model.add(Dropout(0.5))\n",
    "\n",
    "model.add(Conv2D(16,\n",
    "                 (3, 3),\n",
    "                 activation='relu',\n",
    "                 padding='SAME'))\n",
    "model.add(Conv2D(16,\n",
    "                 (3, 3),\n",
    "                 activation='relu',\n",
    "                 padding='SAME'))\n",
    "model.add(MaxPooling2D(pool_size=2))\n",
    "model.add(Dropout(0.5))\n",
    "\n",
    "model.add(Conv2D(32,\n",
    "                 (3, 3),\n",
    "                 activation='relu',\n",
    "                 padding='same'))\n",
    "model.add(Conv2D(32,\n",
    "                 (3, 3),\n",
    "                 activation='relu',\n",
    "                 padding='same'))\n",
    "model.add(MaxPooling2D(pool_size=2))\n",
    "model.add(Dropout(0.5))\n",
    "\n",
    "model.add(Conv2D(32,\n",
    "                 (3, 3),\n",
    "                 activation='relu',\n",
    "                 padding='same'))\n",
    "model.add(Conv2D(32,\n",
    "                 (3, 3),\n",
    "                 activation='relu',\n",
    "                 padding='same'))\n",
    "model.add(MaxPooling2D(pool_size=2))\n",
    "model.add(Dropout(0.5))\n",
    "\n",
    "model.add(Conv2D(32,\n",
    "                 (3, 3),\n",
    "                 activation='relu',\n",
    "                 padding='same'))\n",
    "model.add(Conv2D(32,\n",
    "                 (3, 3),\n",
    "                 activation='relu',\n",
    "                 padding='same'))\n",
    "model.add(MaxPooling2D(pool_size=2))\n",
    "model.add(Dropout(0.5))\n",
    "\n",
    "model.add(Flatten())\n",
    "model.add(Dense(40, kernel_initializer='normal', activation='relu'))\n",
    "model.add(Dropout(0.5))\n",
    "model.add(Dense(num_classes, kernel_initializer='normal'))\n",
    "model.add(Activation('softmax'))\n",
    "model.compile(loss='categorical_crossentropy', optimizer='RMSprop', metrics=['mse', 'accuracy'])\n",
    "\n",
    "model.summary()"
   ]
  },
  {
   "cell_type": "code",
   "execution_count": 11,
   "metadata": {},
   "outputs": [],
   "source": [
    "def generate_val_data(x, y):\n",
    "    list_x = []\n",
    "    list_y = []\n",
    "    count = 0\n",
    "    index = np.arange(len(x))\n",
    "    np.random.shuffle(index)\n",
    "    x = x[index]\n",
    "    y = y[index]\n",
    "\n",
    "    for i in range(len(x)):\n",
    "        raw = x[i]\n",
    "        sz = raw.shape\n",
    "        \n",
    "        label = np.argmax(y[i,:])\n",
    "        num = 50\n",
    "        \n",
    "        for j in range(num):\n",
    "            r = random.randint(0, sz[0]-128)\n",
    "            c = random.randint(0, sz[1]-128)\n",
    "            list_x.append(raw[r:r+128,c:c+128,:])\n",
    "            list_y.append(y[i])\n",
    "    return np.array(list_x), np.array(list_y)"
   ]
  },
  {
   "cell_type": "code",
   "execution_count": 12,
   "metadata": {},
   "outputs": [],
   "source": [
    "X_val_aug, y_val_aug = generate_val_data(X_val, y_val)"
   ]
  },
  {
   "cell_type": "code",
   "execution_count": 13,
   "metadata": {},
   "outputs": [
    {
     "data": {
      "text/plain": [
       "404500"
      ]
     },
     "execution_count": 13,
     "metadata": {},
     "output_type": "execute_result"
    }
   ],
   "source": [
    "train_size * 500"
   ]
  },
  {
   "cell_type": "code",
   "execution_count": 14,
   "metadata": {},
   "outputs": [
    {
     "data": {
      "text/plain": [
       "array([1650., 2000., 1950., 1950., 2000.])"
      ]
     },
     "execution_count": 14,
     "metadata": {},
     "output_type": "execute_result"
    }
   ],
   "source": [
    "gt = np.zeros((5))\n",
    "for i in range(len(y_val_aug)):\n",
    "    label = np.argmax(y_val_aug[i,:])\n",
    "    gt[label] += 1\n",
    "gt"
   ]
  },
  {
   "cell_type": "code",
   "execution_count": 15,
   "metadata": {},
   "outputs": [
    {
     "name": "stdout",
     "output_type": "stream",
     "text": [
      "Epoch 1/50\n",
      "252/252 [==============================] - 8s 31ms/step - loss: 1.0449 - mean_squared_error: 0.1101 - acc: 0.5837 - val_loss: 0.9060 - val_mean_squared_error: 0.1033 - val_acc: 0.5913\n",
      "Epoch 2/50\n",
      "252/252 [==============================] - 8s 32ms/step - loss: 0.6491 - mean_squared_error: 0.0708 - acc: 0.7468 - val_loss: 0.5425 - val_mean_squared_error: 0.0593 - val_acc: 0.7965\n",
      "Epoch 3/50\n",
      "252/252 [==============================] - 8s 32ms/step - loss: 0.5191 - mean_squared_error: 0.0553 - acc: 0.8079 - val_loss: 0.4527 - val_mean_squared_error: 0.0479 - val_acc: 0.8346\n",
      "Epoch 4/50\n",
      "252/252 [==============================] - 8s 32ms/step - loss: 0.4389 - mean_squared_error: 0.0453 - acc: 0.8435 - val_loss: 0.5457 - val_mean_squared_error: 0.0562 - val_acc: 0.7997\n",
      "Epoch 5/50\n",
      "252/252 [==============================] - 8s 32ms/step - loss: 0.3541 - mean_squared_error: 0.0363 - acc: 0.8782 - val_loss: 0.2854 - val_mean_squared_error: 0.0274 - val_acc: 0.8963\n",
      "Epoch 6/50\n",
      "252/252 [==============================] - 8s 32ms/step - loss: 0.3252 - mean_squared_error: 0.0324 - acc: 0.8932 - val_loss: 0.3691 - val_mean_squared_error: 0.0339 - val_acc: 0.8748\n",
      "Epoch 7/50\n",
      "252/252 [==============================] - 8s 33ms/step - loss: 0.2759 - mean_squared_error: 0.0275 - acc: 0.9070 - val_loss: 0.3782 - val_mean_squared_error: 0.0354 - val_acc: 0.8651\n",
      "Epoch 8/50\n",
      "252/252 [==============================] - 8s 32ms/step - loss: 0.2638 - mean_squared_error: 0.0255 - acc: 0.9144 - val_loss: 0.2732 - val_mean_squared_error: 0.0245 - val_acc: 0.9180\n",
      "Epoch 9/50\n",
      "252/252 [==============================] - 8s 33ms/step - loss: 0.2440 - mean_squared_error: 0.0240 - acc: 0.9210 - val_loss: 0.2761 - val_mean_squared_error: 0.0273 - val_acc: 0.9015\n",
      "Epoch 10/50\n",
      "252/252 [==============================] - 8s 33ms/step - loss: 0.2334 - mean_squared_error: 0.0220 - acc: 0.9283 - val_loss: 0.3063 - val_mean_squared_error: 0.0280 - val_acc: 0.8934\n",
      "Epoch 11/50\n",
      "252/252 [==============================] - 8s 33ms/step - loss: 0.2053 - mean_squared_error: 0.0205 - acc: 0.9306 - val_loss: 0.3267 - val_mean_squared_error: 0.0264 - val_acc: 0.9022\n",
      "Epoch 12/50\n",
      "252/252 [==============================] - 8s 33ms/step - loss: 0.1922 - mean_squared_error: 0.0184 - acc: 0.9387 - val_loss: 0.2325 - val_mean_squared_error: 0.0216 - val_acc: 0.9150\n",
      "Epoch 13/50\n",
      "252/252 [==============================] - 8s 33ms/step - loss: 0.1901 - mean_squared_error: 0.0177 - acc: 0.9421 - val_loss: 0.1995 - val_mean_squared_error: 0.0209 - val_acc: 0.9204\n",
      "Epoch 14/50\n",
      "252/252 [==============================] - 8s 33ms/step - loss: 0.1840 - mean_squared_error: 0.0171 - acc: 0.9441 - val_loss: 0.2791 - val_mean_squared_error: 0.0281 - val_acc: 0.8937\n",
      "Epoch 15/50\n",
      "252/252 [==============================] - 8s 33ms/step - loss: 0.1725 - mean_squared_error: 0.0167 - acc: 0.9441 - val_loss: 0.1888 - val_mean_squared_error: 0.0183 - val_acc: 0.9289\n",
      "Epoch 16/50\n",
      "252/252 [==============================] - 8s 33ms/step - loss: 0.1781 - mean_squared_error: 0.0170 - acc: 0.9431 - val_loss: 0.1924 - val_mean_squared_error: 0.0181 - val_acc: 0.9347\n",
      "Epoch 17/50\n",
      "252/252 [==============================] - 8s 34ms/step - loss: 0.1612 - mean_squared_error: 0.0153 - acc: 0.9516 - val_loss: 0.1953 - val_mean_squared_error: 0.0176 - val_acc: 0.9361\n",
      "Epoch 18/50\n",
      "252/252 [==============================] - 9s 34ms/step - loss: 0.1690 - mean_squared_error: 0.0156 - acc: 0.9485 - val_loss: 0.2531 - val_mean_squared_error: 0.0224 - val_acc: 0.9217\n",
      "Epoch 19/50\n",
      "252/252 [==============================] - 8s 33ms/step - loss: 0.1734 - mean_squared_error: 0.0160 - acc: 0.9482 - val_loss: 0.2025 - val_mean_squared_error: 0.0196 - val_acc: 0.9285\n",
      "Epoch 20/50\n",
      "252/252 [==============================] - 8s 33ms/step - loss: 0.1611 - mean_squared_error: 0.0146 - acc: 0.9529 - val_loss: 0.1748 - val_mean_squared_error: 0.0177 - val_acc: 0.9330\n",
      "Epoch 21/50\n",
      "252/252 [==============================] - 8s 33ms/step - loss: 0.1423 - mean_squared_error: 0.0137 - acc: 0.9552 - val_loss: 0.2139 - val_mean_squared_error: 0.0195 - val_acc: 0.9321\n",
      "Epoch 22/50\n",
      "252/252 [==============================] - 9s 37ms/step - loss: 0.1617 - mean_squared_error: 0.0139 - acc: 0.9550 - val_loss: 0.2807 - val_mean_squared_error: 0.0221 - val_acc: 0.9264\n",
      "Epoch 23/50\n",
      "252/252 [==============================] - 9s 35ms/step - loss: 0.1696 - mean_squared_error: 0.0144 - acc: 0.9515 - val_loss: 0.1826 - val_mean_squared_error: 0.0174 - val_acc: 0.9393\n",
      "Epoch 24/50\n",
      "252/252 [==============================] - 8s 32ms/step - loss: 0.1450 - mean_squared_error: 0.0134 - acc: 0.9559 - val_loss: 0.2061 - val_mean_squared_error: 0.0185 - val_acc: 0.9305\n",
      "Epoch 25/50\n",
      "252/252 [==============================] - 8s 32ms/step - loss: 0.1407 - mean_squared_error: 0.0132 - acc: 0.9554 - val_loss: 0.2335 - val_mean_squared_error: 0.0218 - val_acc: 0.9218\n",
      "Epoch 26/50\n",
      "252/252 [==============================] - 8s 32ms/step - loss: 0.1495 - mean_squared_error: 0.0128 - acc: 0.9568 - val_loss: 0.1955 - val_mean_squared_error: 0.0177 - val_acc: 0.9416\n",
      "Epoch 27/50\n",
      "252/252 [==============================] - 8s 32ms/step - loss: 0.1517 - mean_squared_error: 0.0121 - acc: 0.9613 - val_loss: 0.1573 - val_mean_squared_error: 0.0149 - val_acc: 0.9509\n",
      "Epoch 28/50\n",
      "252/252 [==============================] - 8s 33ms/step - loss: 0.1479 - mean_squared_error: 0.0128 - acc: 0.9583 - val_loss: 0.1880 - val_mean_squared_error: 0.0187 - val_acc: 0.9330\n",
      "Epoch 29/50\n",
      "252/252 [==============================] - 8s 32ms/step - loss: 0.1494 - mean_squared_error: 0.0128 - acc: 0.9578 - val_loss: 0.2139 - val_mean_squared_error: 0.0217 - val_acc: 0.9198\n",
      "Epoch 30/50\n",
      "252/252 [==============================] - 8s 32ms/step - loss: 0.1512 - mean_squared_error: 0.0130 - acc: 0.9588 - val_loss: 0.2543 - val_mean_squared_error: 0.0230 - val_acc: 0.9208\n",
      "Epoch 31/50\n",
      "252/252 [==============================] - 8s 32ms/step - loss: 0.1538 - mean_squared_error: 0.0133 - acc: 0.9565 - val_loss: 0.1951 - val_mean_squared_error: 0.0183 - val_acc: 0.9307\n",
      "Epoch 32/50\n",
      "252/252 [==============================] - 8s 32ms/step - loss: 0.1382 - mean_squared_error: 0.0114 - acc: 0.9622 - val_loss: 0.2155 - val_mean_squared_error: 0.0216 - val_acc: 0.9243\n",
      "Epoch 33/50\n",
      "252/252 [==============================] - 8s 33ms/step - loss: 0.1491 - mean_squared_error: 0.0125 - acc: 0.9593 - val_loss: 0.1653 - val_mean_squared_error: 0.0184 - val_acc: 0.9342\n",
      "Epoch 34/50\n",
      "252/252 [==============================] - 8s 33ms/step - loss: 0.1567 - mean_squared_error: 0.0130 - acc: 0.9568 - val_loss: 0.2064 - val_mean_squared_error: 0.0179 - val_acc: 0.9385\n",
      "Epoch 35/50\n",
      "252/252 [==============================] - 9s 35ms/step - loss: 0.1445 - mean_squared_error: 0.0119 - acc: 0.9623 - val_loss: 0.2930 - val_mean_squared_error: 0.0230 - val_acc: 0.9253\n",
      "Epoch 36/50\n",
      "252/252 [==============================] - 8s 33ms/step - loss: 0.1501 - mean_squared_error: 0.0127 - acc: 0.9580 - val_loss: 0.2015 - val_mean_squared_error: 0.0173 - val_acc: 0.9428\n",
      "Epoch 37/50\n",
      "252/252 [==============================] - 9s 35ms/step - loss: 0.1554 - mean_squared_error: 0.0124 - acc: 0.9619 - val_loss: 0.2054 - val_mean_squared_error: 0.0199 - val_acc: 0.9290\n",
      "Epoch 38/50\n",
      "252/252 [==============================] - 9s 35ms/step - loss: 0.1447 - mean_squared_error: 0.0116 - acc: 0.9637 - val_loss: 0.2783 - val_mean_squared_error: 0.0273 - val_acc: 0.9170\n",
      "Epoch 39/50\n",
      "252/252 [==============================] - 8s 33ms/step - loss: 0.1432 - mean_squared_error: 0.0104 - acc: 0.9670 - val_loss: 0.3270 - val_mean_squared_error: 0.0307 - val_acc: 0.8882\n",
      "Epoch 40/50\n",
      "252/252 [==============================] - 8s 33ms/step - loss: 0.1443 - mean_squared_error: 0.0117 - acc: 0.9619 - val_loss: 0.1713 - val_mean_squared_error: 0.0158 - val_acc: 0.9539\n",
      "Epoch 41/50\n",
      "252/252 [==============================] - 8s 33ms/step - loss: 0.1618 - mean_squared_error: 0.0123 - acc: 0.9616 - val_loss: 0.2451 - val_mean_squared_error: 0.0206 - val_acc: 0.9408\n",
      "Epoch 42/50\n",
      "252/252 [==============================] - 9s 35ms/step - loss: 0.1756 - mean_squared_error: 0.0135 - acc: 0.9587 - val_loss: 0.2690 - val_mean_squared_error: 0.0246 - val_acc: 0.9162\n"
     ]
    },
    {
     "name": "stdout",
     "output_type": "stream",
     "text": [
      "Epoch 43/50\n",
      "252/252 [==============================] - 9s 36ms/step - loss: 0.1554 - mean_squared_error: 0.0116 - acc: 0.9619 - val_loss: 0.2928 - val_mean_squared_error: 0.0250 - val_acc: 0.9227\n",
      "Epoch 44/50\n",
      "252/252 [==============================] - 8s 33ms/step - loss: 0.1632 - mean_squared_error: 0.0126 - acc: 0.9594 - val_loss: 0.2182 - val_mean_squared_error: 0.0196 - val_acc: 0.9323\n",
      "Epoch 45/50\n",
      "252/252 [==============================] - 8s 33ms/step - loss: 0.1555 - mean_squared_error: 0.0117 - acc: 0.9622 - val_loss: 0.1551 - val_mean_squared_error: 0.0161 - val_acc: 0.9457\n",
      "Epoch 46/50\n",
      "252/252 [==============================] - 8s 34ms/step - loss: 0.1766 - mean_squared_error: 0.0127 - acc: 0.9608 - val_loss: 0.1908 - val_mean_squared_error: 0.0197 - val_acc: 0.9280\n",
      "Epoch 47/50\n",
      "252/252 [==============================] - 8s 33ms/step - loss: 0.1673 - mean_squared_error: 0.0126 - acc: 0.9603 - val_loss: 0.3607 - val_mean_squared_error: 0.0306 - val_acc: 0.8982\n",
      "Epoch 48/50\n",
      "252/252 [==============================] - 8s 33ms/step - loss: 0.1702 - mean_squared_error: 0.0128 - acc: 0.9582 - val_loss: 0.3080 - val_mean_squared_error: 0.0281 - val_acc: 0.9060\n",
      "Epoch 49/50\n",
      "252/252 [==============================] - 9s 34ms/step - loss: 0.1588 - mean_squared_error: 0.0121 - acc: 0.9622 - val_loss: 0.2714 - val_mean_squared_error: 0.0210 - val_acc: 0.9317\n",
      "Epoch 50/50\n",
      "252/252 [==============================] - 9s 36ms/step - loss: 0.1897 - mean_squared_error: 0.0139 - acc: 0.9567 - val_loss: 0.3101 - val_mean_squared_error: 0.0302 - val_acc: 0.9095\n"
     ]
    }
   ],
   "source": [
    "aug_num = 10\n",
    "\n",
    "def generate_data(x, y, batch_size):\n",
    "    list_x = []\n",
    "    list_y = []\n",
    "    count = 0\n",
    "    index = np.arange(len(x))\n",
    "    np.random.shuffle(index)\n",
    "    x = x[index]\n",
    "    y = y[index]\n",
    "\n",
    "    while True:\n",
    "        num = aug_num\n",
    "        for j in range(num):\n",
    "            for i in range(len(x)):\n",
    "                raw = x[i]\n",
    "                sz = raw.shape\n",
    "                \n",
    "                label = np.argmax(y[i,:])\n",
    "                r = random.randint(0, sz[0]-128)\n",
    "                c = random.randint(0, sz[1]-128)\n",
    "                list_x.append(raw[r:r+128,c:c+128,:])\n",
    "                list_y.append(y[i])\n",
    "                count += 1\n",
    "                if count >= batch_size:\n",
    "                    yield (np.array(list_x), np.array(list_y))\n",
    "                    count = 0\n",
    "                    list_x = []\n",
    "                    list_y = []\n",
    "                        \n",
    "generator = generate_data(X_train, y_train, batch_size)\n",
    "\n",
    "now = datetime.utcnow().strftime(\"%Y%m%d%H%M%S\")\n",
    "root_logdir = \"tf_logs\"\n",
    "logdir = \"{}/run-{}/\".format(root_logdir, now)\n",
    "\n",
    "hist = model.fit_generator(generator=generator,\n",
    "                    validation_data=(X_val_aug, y_val_aug),\n",
    "                    epochs=num_epoch, \n",
    "                    steps_per_epoch=(train_size*aug_num)//batch_size,\n",
    "#                     validation_steps=val_size//batch_size,\n",
    "                    callbacks=[TensorBoard(log_dir=logdir)]\n",
    "                   )"
   ]
  },
  {
   "cell_type": "code",
   "execution_count": 16,
   "metadata": {},
   "outputs": [],
   "source": [
    "train_loss = hist.history['loss']\n",
    "val_loss = hist.history['val_loss']\n",
    "train_acc = hist.history['acc']\n",
    "val_acc = hist.history['val_acc']"
   ]
  },
  {
   "cell_type": "code",
   "execution_count": 17,
   "metadata": {},
   "outputs": [
    {
     "data": {
      "text/plain": [
       "<matplotlib.legend.Legend at 0x7f9d7f571908>"
      ]
     },
     "execution_count": 17,
     "metadata": {},
     "output_type": "execute_result"
    },
    {
     "data": {
      "image/png": "[encoded data removed]",
      "text/plain": [
       "<Figure size 432x288 with 1 Axes>"
      ]
     },
     "metadata": {},
     "output_type": "display_data"
    }
   ],
   "source": [
    "plt.plot(train_loss); plt.title('train loss')\n",
    "plt.plot(val_loss); plt.title('val loss')\n",
    "plt.legend(['train loss', 'val_loss'])"
   ]
  },
  {
   "cell_type": "code",
   "execution_count": 18,
   "metadata": {
    "scrolled": true
   },
   "outputs": [
    {
     "data": {
      "text/plain": [
       "(0, 1)"
      ]
     },
     "execution_count": 18,
     "metadata": {},
     "output_type": "execute_result"
    },
    {
     "data": {
      "image/png": "[encoded data removed]",
      "text/plain": [
       "<Figure size 432x288 with 1 Axes>"
      ]
     },
     "metadata": {},
     "output_type": "display_data"
    }
   ],
   "source": [
    "plt.plot(train_acc); plt.title('train acc')\n",
    "plt.plot(val_acc); plt.title('val acc')\n",
    "plt.legend(['train acc', 'val acc'])\n",
    "plt.grid(True)\n",
    "plt.ylim(0,1)"
   ]
  },
  {
   "cell_type": "code",
   "execution_count": 21,
   "metadata": {},
   "outputs": [],
   "source": [
    "# save model\n",
    "model_fn = 'keras_' + now + '.h5'\n",
    "model.save(model_fn)"
   ]
  },
  {
   "cell_type": "code",
   "execution_count": 55,
   "metadata": {},
   "outputs": [
    {
     "name": "stdout",
     "output_type": "stream",
     "text": [
      "test accuracy: 0.9095287958115184\n",
      "[[1648   69   60   62   27]\n",
      " [   0 1550   83    0    0]\n",
      " [   0  329 1741   23   65]\n",
      " [   0   51   22 1854   15]\n",
      " [   2    1   44   11 1893]]\n"
     ]
    }
   ],
   "source": [
    "# load model\n",
    "from keras.models import load_model\n",
    "model_saved = load_model(model_fn)\n",
    "pred = model_saved.predict(X_val_aug)\n",
    "pred = np.argmax(pred, axis=1)\n",
    "gt = np.argmax(y_val_aug, axis=1)\n",
    "\n",
    "from sklearn.metrics import confusion_matrix\n",
    "conf_mat = confusion_matrix(a, gt)\n",
    "test_acc = np.sum(np.diag(conf_mat)) / np.sum(conf_mat)\n",
    "print('test accuracy:', test_acc)\n",
    "print(conf_mat)"
   ]
  },
  {
   "cell_type": "code",
   "execution_count": 56,
   "metadata": {},
   "outputs": [
    {
     "name": "stdout",
     "output_type": "stream",
     "text": [
      "[0.99878788 0.775      0.89282051 0.95076923 0.9465    ]\n",
      "[0.88317256 0.9491733  0.80676552 0.95468589 0.97027166]\n"
     ]
    }
   ],
   "source": [
    "diag = np.diag(conf_mat)\n",
    "sum_axis0 = np.sum(conf_mat, axis=0)\n",
    "sum_axis1 = np.sum(conf_mat, axis=1)\n",
    "\n",
    "prec = diag / sum_axis0\n",
    "recall = diag / sum_axis1\n",
    "\n",
    "print(prec)\n",
    "print(recall)"
   ]
  },
  {
   "cell_type": "code",
   "execution_count": 57,
   "metadata": {},
   "outputs": [
    {
     "data": {
      "text/plain": [
       "<matplotlib.image.AxesImage at 0x7f99b0afd588>"
      ]
     },
     "execution_count": 57,
     "metadata": {},
     "output_type": "execute_result"
    },
    {
     "data": {
      "image/png": "[encoded data removed]",
      "text/plain": [
       "<Figure size 288x288 with 1 Axes>"
      ]
     },
     "metadata": {},
     "output_type": "display_data"
    }
   ],
   "source": [
    "# rows are actual class, cols are predicted class\n",
    "plt.matshow(conf_mat, cmap=plt.cm.gray)"
   ]
  },
  {
   "cell_type": "code",
   "execution_count": 60,
   "metadata": {},
   "outputs": [
    {
     "data": {
      "text/plain": [
       "<matplotlib.image.AxesImage at 0x7f99b0a42da0>"
      ]
     },
     "execution_count": 60,
     "metadata": {},
     "output_type": "execute_result"
    },
    {
     "data": {
      "image/png": "[encoded data removed]",
      "text/plain": [
       "<Figure size 288x288 with 1 Axes>"
      ]
     },
     "metadata": {},
     "output_type": "display_data"
    }
   ],
   "source": [
    "row_sums = conf_mat.sum(axis=1, keepdims=True)\n",
    "norm_conf_mat = conf_mat / row_sums\n",
    "np.fill_diagonal(norm_conf_mat, 0)\n",
    "plt.matshow(norm_conf_mat, cmap=plt.cm.gray)"
   ]
  },
  {
   "cell_type": "code",
   "execution_count": null,
   "metadata": {},
   "outputs": [],
   "source": []
  }
 ],
 "metadata": {
  "kernelspec": {
   "display_name": "Python 3",
   "language": "python",
   "name": "python3"
  },
  "language_info": {
   "codemirror_mode": {
    "name": "ipython",
    "version": 3
   },
   "file_extension": ".py",
   "mimetype": "text/x-python",
   "name": "python",
   "nbconvert_exporter": "python",
   "pygments_lexer": "ipython3",
   "version": "3.5.2"
  }
 },
 "nbformat": 4,
 "nbformat_minor": 2
}
