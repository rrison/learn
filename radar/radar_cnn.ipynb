{
 "cells": [
  {
   "cell_type": "code",
   "execution_count": 1,
   "metadata": {},
   "outputs": [
    {
     "name": "stderr",
     "output_type": "stream",
     "text": [
      "/home/xd/ws/tf/lib/python3.5/site-packages/h5py/__init__.py:36: FutureWarning: Conversion of the second argument of issubdtype from `float` to `np.floating` is deprecated. In future, it will be treated as `np.float64 == np.dtype(float).type`.\n",
      "  from ._conv import register_converters as _register_converters\n",
      "Using TensorFlow backend.\n",
      "/home/xd/ws/tf/lib/python3.5/site-packages/sklearn/cross_validation.py:41: DeprecationWarning: This module was deprecated in version 0.18 in favor of the model_selection module into which all the refactored classes and functions are moved. Also note that the interface of the new CV iterators are different from that of this module. This module will be removed in 0.20.\n",
      "  \"This module will be removed in 0.20.\", DeprecationWarning)\n"
     ]
    }
   ],
   "source": [
    "from keras.preprocessing.image import ImageDataGenerator\n",
    "from keras.models import Sequential, load_model\n",
    "from keras.layers.core import Dense, Dropout, Activation, Flatten\n",
    "from keras.layers.convolutional import Convolution2D, MaxPooling2D, Conv2D\n",
    "from keras.optimizers import SGD, RMSprop\n",
    "from keras.utils import np_utils, generic_utils\n",
    "from keras.callbacks import TensorBoard\n",
    "from keras import backend as K\n",
    "\n",
    "\n",
    "import tensorflow as tf\n",
    "import os\n",
    "import matplotlib\n",
    "import matplotlib.pyplot as plt\n",
    "import matplotlib.pyplot as pyplot\n",
    "\n",
    "import numpy as np\n",
    "import scipy.io\n",
    "from PIL import Image\n",
    "from sklearn.cross_validation import train_test_split\n",
    "from sklearn import cross_validation\n",
    "from sklearn import preprocessing\n",
    "from IPython import display\n",
    "import time\n",
    "\n",
    "img_rows, img_cols, img_depth = 64, 64, 64"
   ]
  },
  {
   "cell_type": "code",
   "execution_count": 2,
   "metadata": {},
   "outputs": [],
   "source": [
    "root_dir = 'dataset/'\n",
    "listing = os.listdir(root_dir)\n",
    "maxval = 0.46\n",
    "classes = {'none':0, 'left':1, 'right':2, 'click':3, 'wrist':4}\n",
    "gs_class = {'left', 'right', 'click', 'wrist'}"
   ]
  },
  {
   "cell_type": "code",
   "execution_count": 3,
   "metadata": {},
   "outputs": [],
   "source": [
    "X = []\n",
    "y = []\n",
    "\n",
    "for file in listing:\n",
    "    file = root_dir + file\n",
    "    data = scipy.io.loadmat(file)\n",
    "    \n",
    "    gt = 'none'\n",
    "    for i in gs_class:\n",
    "        idx = file.find(i)\n",
    "        if idx != -1:\n",
    "            gt = i\n",
    "            break;\n",
    "        \n",
    "        \n",
    "    raw = data['raw']\n",
    "    label = data['label']\n",
    "    speed = data['speed']\n",
    "    phase = data['phase']\n",
    "    mask = data['mask']\n",
    "    \n",
    "    if np.sum(label) > 30:\n",
    "        label_binary = (label != 0)\n",
    "        mask_sub = mask[label_binary[:,0], :]\n",
    "        \n",
    "        mask_sum = np.sum(mask_sub, 0)\n",
    "        max_idx = np.argmax(mask_sum) # position of body\n",
    "        \n",
    "        gesture_index, b = np.nonzero(label)\n",
    "        gesture_beg = gesture_index[0]\n",
    "        gesture_end = gesture_index[-1]\n",
    "        \n",
    "        if max_idx < 100 or  max_idx > 200:\n",
    "            continue\n",
    "        \n",
    "        for r in range(max(gesture_beg - 10,0), gesture_beg + 10):\n",
    "            for c in range(max_idx - 5, max_idx + 5):\n",
    "                r_min = r\n",
    "                r_max = r + 64\n",
    "                \n",
    "                c_min = c - 64\n",
    "                c_max = c\n",
    "                \n",
    "                raw_sub = raw[r_min:r_max, c_min:c_max]\n",
    "                phase_sub = phase[r_min:r_max, c_min:c_max]\n",
    "                speed_sub = speed[r_min:r_max, c_min:c_max]\n",
    "                \n",
    "                maxval = np.max(np.abs(raw_sub))\n",
    "                if maxval == 0:\n",
    "                    continue\n",
    "                raw_sub = raw_sub / maxval\n",
    "                maxval = np.max(np.abs(phase_sub))\n",
    "                if maxval == 0:\n",
    "                    continue\n",
    "                phase_sub = phase_sub / maxval\n",
    "                maxval = np.max(np.abs(speed_sub))\n",
    "                if maxval == 0:\n",
    "                    continue\n",
    "                speed_sub = speed_sub / maxval\n",
    "                \n",
    "                X_i = np.zeros((64,64,3))\n",
    "                X_i[:,:,0] = raw_sub\n",
    "                X_i[:,:,1] = phase_sub\n",
    "                X_i[:,:,2] = speed_sub\n",
    "                X.append(X_i)\n",
    "                \n",
    "                y.append(classes[gt])\n",
    "                \n",
    "\n",
    "                if gt == 'wrist' or gt == 'click':\n",
    "                    for itr in range(3):\n",
    "                        X.append(X_i)\n",
    "                        y.append(classes[gt])\n",
    "                \n",
    "        for r in range(gesture_end, min(gesture_end+10, len(label)-64)):\n",
    "            for c in range(max_idx - 5, max_idx + 5):\n",
    "                r_min = r\n",
    "                r_max = r + 64\n",
    "                \n",
    "                c_min = c - 64\n",
    "                c_max = c\n",
    "                \n",
    "                raw_sub = raw[r_min:r_max, c_min:c_max]\n",
    "                phase_sub = phase[r_min:r_max, c_min:c_max]\n",
    "                speed_sub = speed[r_min:r_max, c_min:c_max]\n",
    "                \n",
    "                maxval = np.max(np.abs(raw_sub))\n",
    "                if maxval == 0:\n",
    "                    continue\n",
    "                raw_sub = raw_sub / maxval\n",
    "                maxval = np.max(np.abs(phase_sub))\n",
    "                if maxval == 0:\n",
    "                    continue\n",
    "                phase_sub = phase_sub / maxval\n",
    "                maxval = np.max(np.abs(speed_sub))\n",
    "                if maxval == 0:\n",
    "                    continue\n",
    "                speed_sub = speed_sub / maxval\n",
    "                \n",
    "                X_i = np.zeros((64,64,3))\n",
    "                X_i[:,:,0] = raw_sub\n",
    "                X_i[:,:,1] = phase_sub\n",
    "                X_i[:,:,2] = speed_sub\n",
    "                X.append(X_i)\n",
    "                \n",
    "                y.append(classes['none'])"
   ]
  },
  {
   "cell_type": "code",
   "execution_count": 5,
   "metadata": {},
   "outputs": [],
   "source": [
    "X = np.array(X)\n",
    "y = np.array(y)"
   ]
  },
  {
   "cell_type": "code",
   "execution_count": 6,
   "metadata": {},
   "outputs": [
    {
     "name": "stdout",
     "output_type": "stream",
     "text": [
      "36557.0\n",
      "39900.0\n",
      "23790.0\n",
      "31656.0\n",
      "35324.0\n"
     ]
    }
   ],
   "source": [
    "labels = np.zeros((5))\n",
    "for i in range(0, 5):\n",
    "    labels[i] = np.sum(y == i)\n",
    "    \n",
    "# plt.hist(np.transpose(labels))\n",
    "for i in range(5):\n",
    "    print(labels[i])\n",
    "    "
   ]
  },
  {
   "cell_type": "code",
   "execution_count": 7,
   "metadata": {},
   "outputs": [],
   "source": [
    "batch_size = 32\n",
    "num_classes = 5\n",
    "num_epoch = 20"
   ]
  },
  {
   "cell_type": "code",
   "execution_count": 8,
   "metadata": {},
   "outputs": [],
   "source": [
    "y = np_utils.to_categorical(y, num_classes)\n",
    "\n",
    "num_filters = [32, 32]\n",
    "num_pool = [2, 2]\n",
    "num_conv = [5, 3]\n",
    "\n",
    "X = X.astype('float32')"
   ]
  },
  {
   "cell_type": "code",
   "execution_count": 9,
   "metadata": {},
   "outputs": [],
   "source": [
    "X_train, X_val, y_train, y_val = train_test_split(X, y, test_size=0.2, random_state=42)"
   ]
  },
  {
   "cell_type": "code",
   "execution_count": 10,
   "metadata": {},
   "outputs": [
    {
     "name": "stdout",
     "output_type": "stream",
     "text": [
      "32 filters\n",
      "input shape 64 rows 64 cols\n",
      "_________________________________________________________________\n",
      "Layer (type)                 Output Shape              Param #   \n",
      "=================================================================\n",
      "conv2d_1 (Conv2D)            (None, 64, 64, 16)        1216      \n",
      "_________________________________________________________________\n",
      "max_pooling2d_1 (MaxPooling2 (None, 16, 16, 16)        0         \n",
      "_________________________________________________________________\n",
      "dropout_1 (Dropout)          (None, 16, 16, 16)        0         \n",
      "_________________________________________________________________\n",
      "conv2d_2 (Conv2D)            (None, 16, 16, 32)        12832     \n",
      "_________________________________________________________________\n",
      "max_pooling2d_2 (MaxPooling2 (None, 4, 4, 32)          0         \n",
      "_________________________________________________________________\n",
      "dropout_2 (Dropout)          (None, 4, 4, 32)          0         \n",
      "_________________________________________________________________\n",
      "flatten_1 (Flatten)          (None, 512)               0         \n",
      "_________________________________________________________________\n",
      "dense_1 (Dense)              (None, 40)                20520     \n",
      "_________________________________________________________________\n",
      "dropout_3 (Dropout)          (None, 40)                0         \n",
      "_________________________________________________________________\n",
      "dense_2 (Dense)              (None, 5)                 205       \n",
      "_________________________________________________________________\n",
      "activation_1 (Activation)    (None, 5)                 0         \n",
      "=================================================================\n",
      "Total params: 34,773\n",
      "Trainable params: 34,773\n",
      "Non-trainable params: 0\n",
      "_________________________________________________________________\n"
     ]
    }
   ],
   "source": [
    "K.clear_session()\n",
    "model = Sequential()\n",
    "print(num_filters[0], 'filters')\n",
    "print('input shape', img_rows, 'rows', img_cols, 'cols')\n",
    "\n",
    "model.add(Conv2D(16,\n",
    "                 (5, 5),\n",
    "                 input_shape=(64, 64, 3),\n",
    "                 activation='relu',\n",
    "                 padding='SAME'))\n",
    "\n",
    "model.add(MaxPooling2D(pool_size=4))\n",
    "model.add(Dropout(0.5))\n",
    "\n",
    "model.add(Conv2D(32,\n",
    "                 (5, 5),\n",
    "                 input_shape=(img_rows, img_cols, 1),\n",
    "                 activation='relu',\n",
    "                 padding='SAME'))\n",
    "\n",
    "model.add(MaxPooling2D(pool_size=4))\n",
    "model.add(Dropout(0.5))\n",
    "\n",
    "# model.add(Conv2D(64,\n",
    "#                  (3, 3),\n",
    "#                  input_shape=(img_rows, img_cols, 1),\n",
    "#                  activation='relu',\n",
    "#                  padding='valid'))\n",
    "\n",
    "# model.add(MaxPooling2D(pool_size=2, strides=2))\n",
    "# model.add(Dropout(0.5))\n",
    "\n",
    "model.add(Flatten())\n",
    "model.add(Dense(40, kernel_initializer='normal', activation='relu'))\n",
    "model.add(Dropout(0.5))\n",
    "model.add(Dense(num_classes, kernel_initializer='normal'))\n",
    "model.add(Activation('softmax'))\n",
    "model.compile(loss='categorical_crossentropy', optimizer='RMSprop', metrics=['mse', 'accuracy'])\n",
    "\n",
    "model.summary()"
   ]
  },
  {
   "cell_type": "code",
   "execution_count": 11,
   "metadata": {},
   "outputs": [
    {
     "name": "stdout",
     "output_type": "stream",
     "text": [
      "Train on 133781 samples, validate on 33446 samples\n",
      "Epoch 1/20\n",
      "133781/133781 [==============================] - 27s 201us/step - loss: 0.5147 - mean_squared_error: 0.0531 - acc: 0.8129 - val_loss: 0.2191 - val_mean_squared_error: 0.0212 - val_acc: 0.9411\n",
      "Epoch 2/20\n",
      "133781/133781 [==============================] - 25s 190us/step - loss: 0.3259 - mean_squared_error: 0.0332 - acc: 0.8883 - val_loss: 0.2076 - val_mean_squared_error: 0.0192 - val_acc: 0.9590\n",
      "Epoch 3/20\n",
      "133781/133781 [==============================] - 26s 191us/step - loss: 0.2958 - mean_squared_error: 0.0295 - acc: 0.9021 - val_loss: 0.2342 - val_mean_squared_error: 0.0223 - val_acc: 0.9386\n",
      "Epoch 4/20\n",
      "133781/133781 [==============================] - 26s 193us/step - loss: 0.2854 - mean_squared_error: 0.0278 - acc: 0.9075 - val_loss: 0.2759 - val_mean_squared_error: 0.0272 - val_acc: 0.9241\n",
      "Epoch 5/20\n",
      "133781/133781 [==============================] - 26s 197us/step - loss: 0.2841 - mean_squared_error: 0.0274 - acc: 0.9096 - val_loss: 0.3647 - val_mean_squared_error: 0.0388 - val_acc: 0.8606\n",
      "Epoch 6/20\n",
      "133781/133781 [==============================] - 26s 195us/step - loss: 0.2820 - mean_squared_error: 0.0266 - acc: 0.9124 - val_loss: 0.2445 - val_mean_squared_error: 0.0251 - val_acc: 0.9224\n",
      "Epoch 7/20\n",
      "133781/133781 [==============================] - 26s 196us/step - loss: 0.2860 - mean_squared_error: 0.0269 - acc: 0.9114 - val_loss: 0.2667 - val_mean_squared_error: 0.0279 - val_acc: 0.9158\n",
      "Epoch 8/20\n",
      "133781/133781 [==============================] - 26s 196us/step - loss: 0.2857 - mean_squared_error: 0.0268 - acc: 0.9118 - val_loss: 0.2558 - val_mean_squared_error: 0.0275 - val_acc: 0.9076\n",
      "Epoch 9/20\n",
      "133781/133781 [==============================] - 26s 195us/step - loss: 0.2920 - mean_squared_error: 0.0268 - acc: 0.9120 - val_loss: 0.2742 - val_mean_squared_error: 0.0278 - val_acc: 0.9169\n",
      "Epoch 10/20\n",
      "133781/133781 [==============================] - 26s 193us/step - loss: 0.2953 - mean_squared_error: 0.0273 - acc: 0.9099 - val_loss: 0.3033 - val_mean_squared_error: 0.0317 - val_acc: 0.8957\n",
      "Epoch 11/20\n",
      "133781/133781 [==============================] - 26s 195us/step - loss: 0.2986 - mean_squared_error: 0.0272 - acc: 0.9104 - val_loss: 0.3148 - val_mean_squared_error: 0.0328 - val_acc: 0.8956\n",
      "Epoch 12/20\n",
      "133781/133781 [==============================] - 26s 194us/step - loss: 0.2994 - mean_squared_error: 0.0275 - acc: 0.9101 - val_loss: 0.2684 - val_mean_squared_error: 0.0277 - val_acc: 0.9082\n",
      "Epoch 13/20\n",
      "133781/133781 [==============================] - 26s 195us/step - loss: 0.2974 - mean_squared_error: 0.0272 - acc: 0.9104 - val_loss: 0.2357 - val_mean_squared_error: 0.0244 - val_acc: 0.9242\n",
      "Epoch 14/20\n",
      "133781/133781 [==============================] - 27s 200us/step - loss: 0.2946 - mean_squared_error: 0.0271 - acc: 0.9112 - val_loss: 0.2894 - val_mean_squared_error: 0.0296 - val_acc: 0.9111\n",
      "Epoch 15/20\n",
      "133781/133781 [==============================] - 27s 202us/step - loss: 0.2991 - mean_squared_error: 0.0271 - acc: 0.9112 - val_loss: 0.2921 - val_mean_squared_error: 0.0310 - val_acc: 0.8992\n",
      "Epoch 16/20\n",
      "133781/133781 [==============================] - 28s 206us/step - loss: 0.2959 - mean_squared_error: 0.0269 - acc: 0.9116 - val_loss: 0.2192 - val_mean_squared_error: 0.0215 - val_acc: 0.9441\n",
      "Epoch 17/20\n",
      "133781/133781 [==============================] - 27s 199us/step - loss: 0.2911 - mean_squared_error: 0.0264 - acc: 0.9135 - val_loss: 0.3117 - val_mean_squared_error: 0.0315 - val_acc: 0.8991\n",
      "Epoch 18/20\n",
      "133781/133781 [==============================] - 27s 201us/step - loss: 0.2866 - mean_squared_error: 0.0259 - acc: 0.9159 - val_loss: 0.2729 - val_mean_squared_error: 0.0276 - val_acc: 0.9194\n",
      "Epoch 19/20\n",
      "133781/133781 [==============================] - 28s 208us/step - loss: 0.2878 - mean_squared_error: 0.0257 - acc: 0.9160 - val_loss: 0.2559 - val_mean_squared_error: 0.0256 - val_acc: 0.9198\n",
      "Epoch 20/20\n",
      "133781/133781 [==============================] - 27s 199us/step - loss: 0.2861 - mean_squared_error: 0.0258 - acc: 0.9158 - val_loss: 0.2850 - val_mean_squared_error: 0.0278 - val_acc: 0.9219\n"
     ]
    }
   ],
   "source": [
    "hist = model.fit(X_train,\n",
    "                 y_train,\n",
    "                 validation_data=(X_val, y_val),\n",
    "                 batch_size=batch_size,\n",
    "                 epochs=num_epoch,\n",
    "                 shuffle=True,\n",
    "                 callbacks=[TensorBoard(log_dir='./tmp/log')]\n",
    ")"
   ]
  },
  {
   "cell_type": "code",
   "execution_count": 12,
   "metadata": {},
   "outputs": [],
   "source": [
    "train_loss = hist.history['loss']\n",
    "val_loss = hist.history['val_loss']\n",
    "train_acc = hist.history['acc']\n",
    "val_acc = hist.history['val_acc']"
   ]
  },
  {
   "cell_type": "code",
   "execution_count": 13,
   "metadata": {},
   "outputs": [
    {
     "data": {
      "text/plain": [
       "<matplotlib.legend.Legend at 0x7f7c18716e80>"
      ]
     },
     "execution_count": 13,
     "metadata": {},
     "output_type": "execute_result"
    },
    {
     "data": {
      "image/png": "[encoded data removed]",
      "text/plain": [
       "<Figure size 432x288 with 1 Axes>"
      ]
     },
     "metadata": {},
     "output_type": "display_data"
    }
   ],
   "source": [
    "plt.plot(train_loss); plt.title('train loss')\n",
    "plt.plot(val_loss); plt.title('val loss')\n",
    "plt.legend(['train loss', 'val_loss'])"
   ]
  },
  {
   "cell_type": "code",
   "execution_count": 14,
   "metadata": {
    "scrolled": true
   },
   "outputs": [
    {
     "data": {
      "text/plain": [
       "(0, 1)"
      ]
     },
     "execution_count": 14,
     "metadata": {},
     "output_type": "execute_result"
    },
    {
     "data": {
      "image/png": "[encoded data removed]",
      "text/plain": [
       "<Figure size 432x288 with 1 Axes>"
      ]
     },
     "metadata": {},
     "output_type": "display_data"
    }
   ],
   "source": [
    "plt.plot(train_acc); plt.title('train acc')\n",
    "plt.plot(val_acc); plt.title('val acc')\n",
    "plt.legend(['train acc', 'val acc'])\n",
    "plt.grid(True)\n",
    "plt.ylim(0,1)"
   ]
  },
  {
   "cell_type": "code",
   "execution_count": 149,
   "metadata": {},
   "outputs": [],
   "source": [
    "gestures = ['none', 'left', 'right', 'click', 'wrist']"
   ]
  },
  {
   "cell_type": "code",
   "execution_count": 15,
   "metadata": {},
   "outputs": [],
   "source": [
    "np.save('X.npy', X)\n",
    "np.save('y.npy', y)"
   ]
  },
  {
   "cell_type": "code",
   "execution_count": null,
   "metadata": {},
   "outputs": [],
   "source": []
  }
 ],
 "metadata": {
  "kernelspec": {
   "display_name": "Python 3",
   "language": "python",
   "name": "python3"
  },
  "language_info": {
   "codemirror_mode": {
    "name": "ipython",
    "version": 3
   },
   "file_extension": ".py",
   "mimetype": "text/x-python",
   "name": "python",
   "nbconvert_exporter": "python",
   "pygments_lexer": "ipython3",
   "version": "3.5.2"
  }
 },
 "nbformat": 4,
 "nbformat_minor": 2
}
