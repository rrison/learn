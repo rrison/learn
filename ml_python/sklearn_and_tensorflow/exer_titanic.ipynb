{
 "cells": [
  {
   "cell_type": "code",
   "execution_count": 120,
   "metadata": {},
   "outputs": [],
   "source": [
    "import numpy as np\n",
    "import pandas as pd\n",
    "import matplotlib.pyplot as plt\n",
    "%matplotlib inline"
   ]
  },
  {
   "cell_type": "code",
   "execution_count": 2,
   "metadata": {},
   "outputs": [],
   "source": [
    "data = pd.read_csv('train.csv')"
   ]
  },
  {
   "cell_type": "code",
   "execution_count": 6,
   "metadata": {},
   "outputs": [
    {
     "name": "stdout",
     "output_type": "stream",
     "text": [
      "<class 'pandas.core.frame.DataFrame'>\n",
      "RangeIndex: 891 entries, 0 to 890\n",
      "Data columns (total 12 columns):\n",
      "PassengerId    891 non-null int64\n",
      "Survived       891 non-null int64\n",
      "Pclass         891 non-null int64\n",
      "Name           891 non-null object\n",
      "Sex            891 non-null object\n",
      "Age            714 non-null float64\n",
      "SibSp          891 non-null int64\n",
      "Parch          891 non-null int64\n",
      "Ticket         891 non-null object\n",
      "Fare           891 non-null float64\n",
      "Cabin          204 non-null object\n",
      "Embarked       889 non-null object\n",
      "dtypes: float64(2), int64(5), object(5)\n",
      "memory usage: 83.6+ KB\n"
     ]
    }
   ],
   "source": [
    "# show general info\n",
    "data.info()"
   ]
  },
  {
   "cell_type": "code",
   "execution_count": 23,
   "metadata": {},
   "outputs": [
    {
     "data": {
      "text/plain": [
       "101"
      ]
     },
     "execution_count": 23,
     "metadata": {},
     "output_type": "execute_result"
    }
   ],
   "source": [
    "# show PassengerId\n",
    "passengerid = data['PassengerId']\n",
    "\n",
    "# seems useless"
   ]
  },
  {
   "cell_type": "code",
   "execution_count": 24,
   "metadata": {},
   "outputs": [],
   "source": [
    "# label\n",
    "survived = data['Survived']"
   ]
  },
  {
   "cell_type": "code",
   "execution_count": 26,
   "metadata": {},
   "outputs": [],
   "source": [
    "pclass = data['Pclass']"
   ]
  },
  {
   "cell_type": "code",
   "execution_count": 28,
   "metadata": {},
   "outputs": [
    {
     "data": {
      "text/plain": [
       "<matplotlib.axes._subplots.AxesSubplot at 0x10c4c9fd0>"
      ]
     },
     "execution_count": 28,
     "metadata": {},
     "output_type": "execute_result"
    },
    {
     "data": {
      "image/png": "[encoded data removed]",
      "text/plain": [
       "<Figure size 432x288 with 1 Axes>"
      ]
     },
     "metadata": {},
     "output_type": "display_data"
    }
   ],
   "source": [
    "pclass.hist()"
   ]
  },
  {
   "cell_type": "code",
   "execution_count": 32,
   "metadata": {},
   "outputs": [],
   "source": [
    "# plot class=1, survived=0,1\n",
    "class1 = (pclass == 1)\n",
    "class2 = (pclass == 2)\n",
    "class3 = (pclass == 3)"
   ]
  },
  {
   "cell_type": "code",
   "execution_count": 47,
   "metadata": {},
   "outputs": [
    {
     "name": "stdout",
     "output_type": "stream",
     "text": [
      "survival rate in class 1 is 0.6296296296296297\n"
     ]
    },
    {
     "data": {
      "image/png": "[encoded data removed]",
      "text/plain": [
       "<Figure size 432x288 with 1 Axes>"
      ]
     },
     "metadata": {},
     "output_type": "display_data"
    }
   ],
   "source": [
    "survived[class1].hist()\n",
    "survival_rate_class1 = survived[class1].value_counts() / survived[class1].count()\n",
    "print('survival rate in class 1 is', survival_rate_class1[1])"
   ]
  },
  {
   "cell_type": "code",
   "execution_count": 48,
   "metadata": {},
   "outputs": [
    {
     "name": "stdout",
     "output_type": "stream",
     "text": [
      "survival rate in class 2 is 0.47282608695652173\n"
     ]
    },
    {
     "data": {
      "image/png": "[encoded data removed]",
      "text/plain": [
       "<Figure size 432x288 with 1 Axes>"
      ]
     },
     "metadata": {},
     "output_type": "display_data"
    }
   ],
   "source": [
    "survived[class2].hist()\n",
    "survival_rate_class2 = survived[class2].value_counts() / survived[class2].count()\n",
    "print('survival rate in class 2 is', survival_rate_class2[1])"
   ]
  },
  {
   "cell_type": "code",
   "execution_count": 49,
   "metadata": {},
   "outputs": [
    {
     "name": "stdout",
     "output_type": "stream",
     "text": [
      "survival rate in class 3 is 0.24236252545824846\n"
     ]
    },
    {
     "data": {
      "image/png": "[encoded data removed]",
      "text/plain": [
       "<Figure size 432x288 with 1 Axes>"
      ]
     },
     "metadata": {},
     "output_type": "display_data"
    }
   ],
   "source": [
    "survived[class3].hist()\n",
    "survival_rate_class3 = survived[class3].value_counts() / survived[class3].count()\n",
    "print('survival rate in class 3 is', survival_rate_class3[1])"
   ]
  },
  {
   "cell_type": "code",
   "execution_count": 58,
   "metadata": {},
   "outputs": [],
   "source": [
    "# survival_rate_class1 > survival_rate_class2 > survival_rate_class3"
   ]
  },
  {
   "cell_type": "code",
   "execution_count": 59,
   "metadata": {},
   "outputs": [],
   "source": [
    "names = data['Name']"
   ]
  },
  {
   "cell_type": "code",
   "execution_count": 72,
   "metadata": {},
   "outputs": [],
   "source": [
    "sex = data['Sex']"
   ]
  },
  {
   "cell_type": "code",
   "execution_count": 76,
   "metadata": {},
   "outputs": [],
   "source": [
    "male = (sex == 'male')\n",
    "female = (sex == 'female')"
   ]
  },
  {
   "cell_type": "code",
   "execution_count": 85,
   "metadata": {},
   "outputs": [
    {
     "name": "stdout",
     "output_type": "stream",
     "text": [
      "survival rate, female is 0.8110918544194108\n",
      "survival rate, male is 0.18890814558058924\n"
     ]
    },
    {
     "data": {
      "image/png": "[encoded data removed]",
      "text/plain": [
       "<Figure size 432x288 with 1 Axes>"
      ]
     },
     "metadata": {},
     "output_type": "display_data"
    }
   ],
   "source": [
    "# show survival_rate male vs female\n",
    "survived[male].hist()\n",
    "survival_rate_female_vs_male = survived[male].value_counts() / survived[male].count()\n",
    "print('survival rate, female is', survival_rate_female_vs_male[0])\n",
    "print('survival rate, male is', survival_rate_female_vs_male[1])"
   ]
  },
  {
   "cell_type": "code",
   "execution_count": 86,
   "metadata": {},
   "outputs": [],
   "source": [
    "# survival rate of female is much higher than male"
   ]
  },
  {
   "cell_type": "code",
   "execution_count": 118,
   "metadata": {},
   "outputs": [
    {
     "name": "stdout",
     "output_type": "stream",
     "text": [
      "714\n"
     ]
    },
    {
     "data": {
      "image/png": "[encoded data removed]",
      "text/plain": [
       "<Figure size 432x288 with 1 Axes>"
      ]
     },
     "metadata": {},
     "output_type": "display_data"
    }
   ],
   "source": [
    "age = data['Age']\n",
    "age_max = age.max()\n",
    "age_min = age.min()\n",
    "age.hist()\n",
    "print(age.count())"
   ]
  },
  {
   "cell_type": "code",
   "execution_count": 170,
   "metadata": {},
   "outputs": [
    {
     "data": {
      "text/plain": [
       "[<matplotlib.lines.Line2D at 0x10c3114e0>]"
      ]
     },
     "execution_count": 170,
     "metadata": {},
     "output_type": "execute_result"
    },
    {
     "data": {
      "image/png": "[encoded data removed]",
      "text/plain": [
       "<Figure size 432x288 with 1 Axes>"
      ]
     },
     "metadata": {},
     "output_type": "display_data"
    }
   ],
   "source": [
    "import math\n",
    "\n",
    "survival_rate_by_age = np.zeros((int(age_max / 10), 1))\n",
    "age_bin_count = np.zeros((int(age_max / 10), 1))\n",
    "for i in range(age.count()):\n",
    "    if not math.isnan(age[i]):\n",
    "        age_bin = int(age[i] / 10)\n",
    "        if age_bin > 7:\n",
    "            age_bin = 7\n",
    "        survival_rate_by_age[age_bin] += survived[i]\n",
    "        age_bin_count[age_bin] += 1\n",
    "survival_rate_by_age /= age_bin_count\n",
    "plt.plot(survival_rate_by_age)"
   ]
  },
  {
   "cell_type": "code",
   "execution_count": 171,
   "metadata": {},
   "outputs": [],
   "source": [
    "# age may help, children's survival rate is higher"
   ]
  },
  {
   "cell_type": "code",
   "execution_count": 182,
   "metadata": {},
   "outputs": [
    {
     "name": "stdout",
     "output_type": "stream",
     "text": [
      "0      22.0\n",
      "1      38.0\n",
      "2      26.0\n",
      "3      35.0\n",
      "4      35.0\n",
      "5       NaN\n",
      "6      54.0\n",
      "7       2.0\n",
      "8      27.0\n",
      "9      14.0\n",
      "10      4.0\n",
      "11     58.0\n",
      "12     20.0\n",
      "13     39.0\n",
      "14     14.0\n",
      "15     55.0\n",
      "16      2.0\n",
      "17      NaN\n",
      "18     31.0\n",
      "19      NaN\n",
      "20     35.0\n",
      "21     34.0\n",
      "22     15.0\n",
      "23     28.0\n",
      "24      8.0\n",
      "25     38.0\n",
      "26      NaN\n",
      "27     19.0\n",
      "28      NaN\n",
      "29      NaN\n",
      "       ... \n",
      "861    21.0\n",
      "862    48.0\n",
      "863     NaN\n",
      "864    24.0\n",
      "865    42.0\n",
      "866    27.0\n",
      "867    31.0\n",
      "868     NaN\n",
      "869     4.0\n",
      "870    26.0\n",
      "871    47.0\n",
      "872    33.0\n",
      "873    47.0\n",
      "874    28.0\n",
      "875    15.0\n",
      "876    20.0\n",
      "877    19.0\n",
      "878     NaN\n",
      "879    56.0\n",
      "880    25.0\n",
      "881    33.0\n",
      "882    22.0\n",
      "883    28.0\n",
      "884    25.0\n",
      "885    39.0\n",
      "886    27.0\n",
      "887    19.0\n",
      "888     NaN\n",
      "889    26.0\n",
      "890    32.0\n",
      "Name: Age, Length: 891, dtype: float64\n"
     ]
    }
   ],
   "source": [
    "# age, sex, Pclass as feature\n",
    "print(age)"
   ]
  },
  {
   "cell_type": "code",
   "execution_count": null,
   "metadata": {},
   "outputs": [],
   "source": [
    "SibSp          891 non-null int64\n",
    "Parch          891 non-null int64\n",
    "Ticket         891 non-null object\n",
    "Fare           891 non-null float64\n",
    "Cabin          204 non-null object\n",
    "Embarked"
   ]
  }
 ],
 "metadata": {
  "kernelspec": {
   "display_name": "Python 3",
   "language": "python",
   "name": "python3"
  },
  "language_info": {
   "codemirror_mode": {
    "name": "ipython",
    "version": 3
   },
   "file_extension": ".py",
   "mimetype": "text/x-python",
   "name": "python",
   "nbconvert_exporter": "python",
   "pygments_lexer": "ipython3",
   "version": "3.6.5"
  }
 },
 "nbformat": 4,
 "nbformat_minor": 2
}
